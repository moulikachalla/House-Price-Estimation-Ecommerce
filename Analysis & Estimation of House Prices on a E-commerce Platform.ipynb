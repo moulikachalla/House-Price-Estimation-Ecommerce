{
 "cells": [
  {
   "cell_type": "markdown",
   "id": "greater-pastor",
   "metadata": {},
   "source": [
    "#### Goal:\n",
    "In this Project we are going to study the features affecting the price of House/apartments through a online e commerce platform.\n",
    "\n",
    "* E-commerce Website: Olx.in\n",
    "\n",
    "Price of a house can be depends on so many factors like , square feet, number of bedrooms, area, facilities available like etc..\n",
    "\n",
    "This project will be in These Modules\n",
    "\n",
    "* Collection of Data from Olx Website ---- Webscraping\n",
    "* Analysis Of Collected Data          ---- EDA & Visualizations\n",
    "* Predictive Modeling of Price        ---- Machine Learning\n",
    "* Evaluation                          ---- Model Performance Check\n",
    "* Deployment                          ---- Availability of our predictive model to end user"
   ]
  },
  {
   "cell_type": "markdown",
   "id": "environmental-reply",
   "metadata": {},
   "source": [
    "#### Loading Saved Data from Web Scraping"
   ]
  },
  {
   "cell_type": "code",
   "execution_count": 50,
   "id": "wooden-three",
   "metadata": {},
   "outputs": [],
   "source": [
    "import pandas as pd\n",
    "import numpy as np\n",
    "import matplotlib.pyplot as plt\n",
    "import seaborn as sns\n",
    "%matplotlib inline\n",
    "\n",
    "import warnings\n",
    "warnings.filterwarnings(\"ignore\")"
   ]
  },
  {
   "cell_type": "code",
   "execution_count": 51,
   "id": "interstate-pizza",
   "metadata": {},
   "outputs": [],
   "source": [
    "raw = pd.read_csv(\"raw.csv\")"
   ]
  },
  {
   "cell_type": "markdown",
   "id": "adapted-violin",
   "metadata": {},
   "source": [
    "For the collected data we are going to do,\n",
    "\n",
    "* Data Cleaning\n",
    "* Missing Values Treatment\n",
    "* EDA Analysis\n",
    "* Visual Analysis\n",
    "* Data Preprocessing\n",
    "* Modeling\n",
    "* Evaluation"
   ]
  },
  {
   "cell_type": "code",
   "execution_count": 52,
   "id": "muslim-nightmare",
   "metadata": {},
   "outputs": [
    {
     "data": {
      "text/html": [
       "<div>\n",
       "<style scoped>\n",
       "    .dataframe tbody tr th:only-of-type {\n",
       "        vertical-align: middle;\n",
       "    }\n",
       "\n",
       "    .dataframe tbody tr th {\n",
       "        vertical-align: top;\n",
       "    }\n",
       "\n",
       "    .dataframe thead th {\n",
       "        text-align: right;\n",
       "    }\n",
       "</style>\n",
       "<table border=\"1\" class=\"dataframe\">\n",
       "  <thead>\n",
       "    <tr style=\"text-align: right;\">\n",
       "      <th></th>\n",
       "      <th>Ad_link</th>\n",
       "      <th>location</th>\n",
       "      <th>house_type</th>\n",
       "      <th>sqft</th>\n",
       "      <th>bedrooms</th>\n",
       "      <th>bathrooms</th>\n",
       "      <th>furnishing</th>\n",
       "      <th>constr_info</th>\n",
       "      <th>floor_no</th>\n",
       "      <th>facing</th>\n",
       "      <th>price</th>\n",
       "    </tr>\n",
       "  </thead>\n",
       "  <tbody>\n",
       "    <tr>\n",
       "      <th>0</th>\n",
       "      <td>https://www.olx.in/item/book-3bhk-in-hero-home...</td>\n",
       "      <td>Sector 88, Mohali, Punjab</td>\n",
       "      <td>['Apartments']</td>\n",
       "      <td>['1481']</td>\n",
       "      <td>['3']</td>\n",
       "      <td>['3']</td>\n",
       "      <td>['Semi-Furnished']</td>\n",
       "      <td>['New Launch']</td>\n",
       "      <td>['4']</td>\n",
       "      <td>['North-East']</td>\n",
       "      <td>₹ 85,30,000</td>\n",
       "    </tr>\n",
       "    <tr>\n",
       "      <th>1</th>\n",
       "      <td>https://www.olx.in/item/3055-3bhk-brand-new-ho...</td>\n",
       "      <td>JP Nagar, Mysuru, Karnataka</td>\n",
       "      <td>['Houses &amp; Villas']</td>\n",
       "      <td>['1650']</td>\n",
       "      <td>['3']</td>\n",
       "      <td>['3']</td>\n",
       "      <td>['Furnished']</td>\n",
       "      <td>['Ready to Move']</td>\n",
       "      <td>NaN</td>\n",
       "      <td>['South-East']</td>\n",
       "      <td>₹ 1,05,00,000</td>\n",
       "    </tr>\n",
       "    <tr>\n",
       "      <th>2</th>\n",
       "      <td>https://www.olx.in/item/4bhk-ready-possession-...</td>\n",
       "      <td>Pal Village, Surat, Gujarat</td>\n",
       "      <td>['Apartments']</td>\n",
       "      <td>['3051']</td>\n",
       "      <td>['4']</td>\n",
       "      <td>['4']</td>\n",
       "      <td>['Semi-Furnished']</td>\n",
       "      <td>['Ready to Move']</td>\n",
       "      <td>['2']</td>\n",
       "      <td>['East']</td>\n",
       "      <td>₹ 1,70,00,000</td>\n",
       "    </tr>\n",
       "    <tr>\n",
       "      <th>3</th>\n",
       "      <td>https://www.olx.in/item/12-cents-with-old-hous...</td>\n",
       "      <td>Thevara, Kochi, Kerala</td>\n",
       "      <td>['Houses &amp; Villas']</td>\n",
       "      <td>['3000']</td>\n",
       "      <td>['4']</td>\n",
       "      <td>NaN</td>\n",
       "      <td>NaN</td>\n",
       "      <td>NaN</td>\n",
       "      <td>NaN</td>\n",
       "      <td>NaN</td>\n",
       "      <td>₹ 1,50,00,000</td>\n",
       "    </tr>\n",
       "    <tr>\n",
       "      <th>4</th>\n",
       "      <td>https://www.olx.in/item/1bhk-flat-in-laxmi-nag...</td>\n",
       "      <td>Mayur Vihar, Jaipur, Rajasthan</td>\n",
       "      <td>['Apartments']</td>\n",
       "      <td>['450']</td>\n",
       "      <td>['1']</td>\n",
       "      <td>['1']</td>\n",
       "      <td>['Semi-Furnished']</td>\n",
       "      <td>['Ready to Move']</td>\n",
       "      <td>['1']</td>\n",
       "      <td>['East']</td>\n",
       "      <td>₹ 10,50,000</td>\n",
       "    </tr>\n",
       "  </tbody>\n",
       "</table>\n",
       "</div>"
      ],
      "text/plain": [
       "                                             Ad_link  \\\n",
       "0  https://www.olx.in/item/book-3bhk-in-hero-home...   \n",
       "1  https://www.olx.in/item/3055-3bhk-brand-new-ho...   \n",
       "2  https://www.olx.in/item/4bhk-ready-possession-...   \n",
       "3  https://www.olx.in/item/12-cents-with-old-hous...   \n",
       "4  https://www.olx.in/item/1bhk-flat-in-laxmi-nag...   \n",
       "\n",
       "                         location           house_type      sqft bedrooms  \\\n",
       "0       Sector 88, Mohali, Punjab       ['Apartments']  ['1481']    ['3']   \n",
       "1     JP Nagar, Mysuru, Karnataka  ['Houses & Villas']  ['1650']    ['3']   \n",
       "2     Pal Village, Surat, Gujarat       ['Apartments']  ['3051']    ['4']   \n",
       "3          Thevara, Kochi, Kerala  ['Houses & Villas']  ['3000']    ['4']   \n",
       "4  Mayur Vihar, Jaipur, Rajasthan       ['Apartments']   ['450']    ['1']   \n",
       "\n",
       "  bathrooms          furnishing        constr_info floor_no          facing  \\\n",
       "0     ['3']  ['Semi-Furnished']     ['New Launch']    ['4']  ['North-East']   \n",
       "1     ['3']       ['Furnished']  ['Ready to Move']      NaN  ['South-East']   \n",
       "2     ['4']  ['Semi-Furnished']  ['Ready to Move']    ['2']        ['East']   \n",
       "3       NaN                 NaN                NaN      NaN             NaN   \n",
       "4     ['1']  ['Semi-Furnished']  ['Ready to Move']    ['1']        ['East']   \n",
       "\n",
       "           price  \n",
       "0    ₹ 85,30,000  \n",
       "1  ₹ 1,05,00,000  \n",
       "2  ₹ 1,70,00,000  \n",
       "3  ₹ 1,50,00,000  \n",
       "4    ₹ 10,50,000  "
      ]
     },
     "execution_count": 52,
     "metadata": {},
     "output_type": "execute_result"
    }
   ],
   "source": [
    "raw.head()"
   ]
  },
  {
   "cell_type": "code",
   "execution_count": 53,
   "id": "minute-violin",
   "metadata": {},
   "outputs": [
    {
     "data": {
      "text/plain": [
       "(452, 11)"
      ]
     },
     "execution_count": 53,
     "metadata": {},
     "output_type": "execute_result"
    }
   ],
   "source": [
    "raw.shape"
   ]
  },
  {
   "cell_type": "code",
   "execution_count": 54,
   "id": "unusual-duncan",
   "metadata": {},
   "outputs": [
    {
     "name": "stdout",
     "output_type": "stream",
     "text": [
      "<class 'pandas.core.frame.DataFrame'>\n",
      "RangeIndex: 452 entries, 0 to 451\n",
      "Data columns (total 11 columns):\n",
      " #   Column       Non-Null Count  Dtype \n",
      "---  ------       --------------  ----- \n",
      " 0   Ad_link      452 non-null    object\n",
      " 1   location     375 non-null    object\n",
      " 2   house_type   374 non-null    object\n",
      " 3   sqft         374 non-null    object\n",
      " 4   bedrooms     368 non-null    object\n",
      " 5   bathrooms    367 non-null    object\n",
      " 6   furnishing   367 non-null    object\n",
      " 7   constr_info  368 non-null    object\n",
      " 8   floor_no     235 non-null    object\n",
      " 9   facing       281 non-null    object\n",
      " 10  price        375 non-null    object\n",
      "dtypes: object(11)\n",
      "memory usage: 39.0+ KB\n"
     ]
    }
   ],
   "source": [
    "raw.info()"
   ]
  },
  {
   "cell_type": "markdown",
   "id": "informational-traffic",
   "metadata": {},
   "source": [
    "#### Intial Check for Duplicates and Missing Values"
   ]
  },
  {
   "cell_type": "code",
   "execution_count": 55,
   "id": "cubic-season",
   "metadata": {},
   "outputs": [],
   "source": [
    "rawcheck = raw.drop_duplicates()"
   ]
  },
  {
   "cell_type": "code",
   "execution_count": 56,
   "id": "occupied-update",
   "metadata": {},
   "outputs": [],
   "source": [
    "rawcheck = rawcheck.dropna().reset_index(drop=True)"
   ]
  },
  {
   "cell_type": "code",
   "execution_count": 57,
   "id": "moderate-speaking",
   "metadata": {},
   "outputs": [
    {
     "data": {
      "text/plain": [
       "Ad_link        0\n",
       "location       0\n",
       "house_type     0\n",
       "sqft           0\n",
       "bedrooms       0\n",
       "bathrooms      0\n",
       "furnishing     0\n",
       "constr_info    0\n",
       "floor_no       0\n",
       "facing         0\n",
       "price          0\n",
       "dtype: int64"
      ]
     },
     "execution_count": 57,
     "metadata": {},
     "output_type": "execute_result"
    }
   ],
   "source": [
    "rawcheck.isnull().sum()"
   ]
  },
  {
   "cell_type": "markdown",
   "id": "modular-chassis",
   "metadata": {},
   "source": [
    "many rows are dropped , conisdering raw data , lets look after data cleaning for this"
   ]
  },
  {
   "cell_type": "markdown",
   "id": "insured-costa",
   "metadata": {},
   "source": [
    "#### Data Cleaning\n",
    "\n",
    "* cleaning columns data by removing extra symbols and other"
   ]
  },
  {
   "cell_type": "code",
   "execution_count": 58,
   "id": "junior-monroe",
   "metadata": {},
   "outputs": [
    {
     "data": {
      "text/html": [
       "<div>\n",
       "<style scoped>\n",
       "    .dataframe tbody tr th:only-of-type {\n",
       "        vertical-align: middle;\n",
       "    }\n",
       "\n",
       "    .dataframe tbody tr th {\n",
       "        vertical-align: top;\n",
       "    }\n",
       "\n",
       "    .dataframe thead th {\n",
       "        text-align: right;\n",
       "    }\n",
       "</style>\n",
       "<table border=\"1\" class=\"dataframe\">\n",
       "  <thead>\n",
       "    <tr style=\"text-align: right;\">\n",
       "      <th></th>\n",
       "      <th>Ad_link</th>\n",
       "      <th>location</th>\n",
       "      <th>house_type</th>\n",
       "      <th>sqft</th>\n",
       "      <th>bedrooms</th>\n",
       "      <th>bathrooms</th>\n",
       "      <th>furnishing</th>\n",
       "      <th>constr_info</th>\n",
       "      <th>floor_no</th>\n",
       "      <th>facing</th>\n",
       "      <th>price</th>\n",
       "    </tr>\n",
       "  </thead>\n",
       "  <tbody>\n",
       "    <tr>\n",
       "      <th>0</th>\n",
       "      <td>https://www.olx.in/item/book-3bhk-in-hero-home...</td>\n",
       "      <td>Sector 88, Mohali, Punjab</td>\n",
       "      <td>['Apartments']</td>\n",
       "      <td>['1481']</td>\n",
       "      <td>['3']</td>\n",
       "      <td>['3']</td>\n",
       "      <td>['Semi-Furnished']</td>\n",
       "      <td>['New Launch']</td>\n",
       "      <td>['4']</td>\n",
       "      <td>['North-East']</td>\n",
       "      <td>₹ 85,30,000</td>\n",
       "    </tr>\n",
       "    <tr>\n",
       "      <th>1</th>\n",
       "      <td>https://www.olx.in/item/3055-3bhk-brand-new-ho...</td>\n",
       "      <td>JP Nagar, Mysuru, Karnataka</td>\n",
       "      <td>['Houses &amp; Villas']</td>\n",
       "      <td>['1650']</td>\n",
       "      <td>['3']</td>\n",
       "      <td>['3']</td>\n",
       "      <td>['Furnished']</td>\n",
       "      <td>['Ready to Move']</td>\n",
       "      <td>NaN</td>\n",
       "      <td>['South-East']</td>\n",
       "      <td>₹ 1,05,00,000</td>\n",
       "    </tr>\n",
       "    <tr>\n",
       "      <th>2</th>\n",
       "      <td>https://www.olx.in/item/4bhk-ready-possession-...</td>\n",
       "      <td>Pal Village, Surat, Gujarat</td>\n",
       "      <td>['Apartments']</td>\n",
       "      <td>['3051']</td>\n",
       "      <td>['4']</td>\n",
       "      <td>['4']</td>\n",
       "      <td>['Semi-Furnished']</td>\n",
       "      <td>['Ready to Move']</td>\n",
       "      <td>['2']</td>\n",
       "      <td>['East']</td>\n",
       "      <td>₹ 1,70,00,000</td>\n",
       "    </tr>\n",
       "    <tr>\n",
       "      <th>3</th>\n",
       "      <td>https://www.olx.in/item/12-cents-with-old-hous...</td>\n",
       "      <td>Thevara, Kochi, Kerala</td>\n",
       "      <td>['Houses &amp; Villas']</td>\n",
       "      <td>['3000']</td>\n",
       "      <td>['4']</td>\n",
       "      <td>NaN</td>\n",
       "      <td>NaN</td>\n",
       "      <td>NaN</td>\n",
       "      <td>NaN</td>\n",
       "      <td>NaN</td>\n",
       "      <td>₹ 1,50,00,000</td>\n",
       "    </tr>\n",
       "    <tr>\n",
       "      <th>4</th>\n",
       "      <td>https://www.olx.in/item/1bhk-flat-in-laxmi-nag...</td>\n",
       "      <td>Mayur Vihar, Jaipur, Rajasthan</td>\n",
       "      <td>['Apartments']</td>\n",
       "      <td>['450']</td>\n",
       "      <td>['1']</td>\n",
       "      <td>['1']</td>\n",
       "      <td>['Semi-Furnished']</td>\n",
       "      <td>['Ready to Move']</td>\n",
       "      <td>['1']</td>\n",
       "      <td>['East']</td>\n",
       "      <td>₹ 10,50,000</td>\n",
       "    </tr>\n",
       "  </tbody>\n",
       "</table>\n",
       "</div>"
      ],
      "text/plain": [
       "                                             Ad_link  \\\n",
       "0  https://www.olx.in/item/book-3bhk-in-hero-home...   \n",
       "1  https://www.olx.in/item/3055-3bhk-brand-new-ho...   \n",
       "2  https://www.olx.in/item/4bhk-ready-possession-...   \n",
       "3  https://www.olx.in/item/12-cents-with-old-hous...   \n",
       "4  https://www.olx.in/item/1bhk-flat-in-laxmi-nag...   \n",
       "\n",
       "                         location           house_type      sqft bedrooms  \\\n",
       "0       Sector 88, Mohali, Punjab       ['Apartments']  ['1481']    ['3']   \n",
       "1     JP Nagar, Mysuru, Karnataka  ['Houses & Villas']  ['1650']    ['3']   \n",
       "2     Pal Village, Surat, Gujarat       ['Apartments']  ['3051']    ['4']   \n",
       "3          Thevara, Kochi, Kerala  ['Houses & Villas']  ['3000']    ['4']   \n",
       "4  Mayur Vihar, Jaipur, Rajasthan       ['Apartments']   ['450']    ['1']   \n",
       "\n",
       "  bathrooms          furnishing        constr_info floor_no          facing  \\\n",
       "0     ['3']  ['Semi-Furnished']     ['New Launch']    ['4']  ['North-East']   \n",
       "1     ['3']       ['Furnished']  ['Ready to Move']      NaN  ['South-East']   \n",
       "2     ['4']  ['Semi-Furnished']  ['Ready to Move']    ['2']        ['East']   \n",
       "3       NaN                 NaN                NaN      NaN             NaN   \n",
       "4     ['1']  ['Semi-Furnished']  ['Ready to Move']    ['1']        ['East']   \n",
       "\n",
       "           price  \n",
       "0    ₹ 85,30,000  \n",
       "1  ₹ 1,05,00,000  \n",
       "2  ₹ 1,70,00,000  \n",
       "3  ₹ 1,50,00,000  \n",
       "4    ₹ 10,50,000  "
      ]
     },
     "execution_count": 58,
     "metadata": {},
     "output_type": "execute_result"
    }
   ],
   "source": [
    "raw.head()"
   ]
  },
  {
   "cell_type": "code",
   "execution_count": 59,
   "id": "handled-sheep",
   "metadata": {
    "scrolled": true
   },
   "outputs": [
    {
     "data": {
      "text/plain": [
       "array(['₹ 85,30,000', '₹ 1,05,00,000', '₹ 1,70,00,000', '₹ 1,50,00,000',\n",
       "       '₹ 10,50,000', '₹ 29,00,000', '₹ 60,00,000', '₹ 55,00,000',\n",
       "       '₹ 45,00,000', '₹ 65,00,000', '₹ 27,92,356', '₹ 27,99,632',\n",
       "       '₹ 27,96,666', '₹ 33,00,000', '₹ 41,00,000', '₹ 30,51,000',\n",
       "       '₹ 36,87,454', '₹ 41,99,000', '₹ 32,50,000', '₹ 38,00,000',\n",
       "       '₹ 80,00,000', '₹ 49,29,000', '₹ 50,45,000', '₹ 72,40,000',\n",
       "       '₹ 35,60,000', '₹ 42,00,000', '₹ 1,15,00,000', '₹ 70,00,000',\n",
       "       '₹ 57,00,000', '₹ 50,00,000', '₹ 82,00,000', '₹ 22,00,000',\n",
       "       '₹ 62,00,000', '₹ 25,00,000', '₹ 23,00,000', '₹ 22,50,000',\n",
       "       '₹ 28,00,000', '₹ 27,50,000', '₹ 69,00,000', nan, '₹ 39,90,000',\n",
       "       '₹ 35,00,000', '₹ 20,94,567', '₹ 20,99,658', '₹ 29,99,963',\n",
       "       '₹ 75,00,000', '₹ 72,46,000', '₹ 2,15,00,000', '₹ 99,99,999',\n",
       "       '₹ 39,00,000', '₹ 66,00,000', '₹ 42,50,000', '₹ 1,30,00,000',\n",
       "       '₹ 30,11,000', '₹ 58,00,000', '₹ 79,89,000', '₹ 51,80,000',\n",
       "       '₹ 52,60,000', '₹ 1,06,00,000', '₹ 14,50,000', '₹ 41,50,000',\n",
       "       '₹ 1,25,00,000', '₹ 18,90,000', '₹ 37,00,000', '₹ 17,00,000',\n",
       "       '₹ 68,00,000', '₹ 53,11,000', '₹ 34,00,000', '₹ 47,75,000',\n",
       "       '₹ 54,50,000', '₹ 12,00,000', '₹ 19,99,997', '₹ 24,00,000',\n",
       "       '₹ 27,11,000', '₹ 56,00,000', '₹ 48,00,000', '₹ 30,00,000',\n",
       "       '₹ 67,00,000', '₹ 64,00,000', '₹ 23,21,000', '₹ 16,95,000',\n",
       "       '₹ 35,21,000', '₹ 18,49,996', '₹ 35,50,000', '₹ 22,25,000',\n",
       "       '₹ 20,00,000', '₹ 22,10,000', '₹ 1,10,00,000', '₹ 43,00,000',\n",
       "       '₹ 21,50,000', '₹ 31,00,000', '₹ 36,00,000', '₹ 1,20,00,000',\n",
       "       '₹ 50,000', '₹ 85,00,000', '₹ 49,99,999', '₹ 1,40,00,000',\n",
       "       '₹ 32,00,000', '₹ 41,20,000', '₹ 9,98,000', '₹ 28,50,000',\n",
       "       '₹ 46,00,000', '₹ 20,50,000', '₹ 40,00,000', '₹ 16,10,000',\n",
       "       '₹ 95,00,000', '₹ 24,00,00,000', '₹ 3,19,00,000', '₹ 38,14,000',\n",
       "       '₹ 52,00,000', '₹ 18,50,000', '₹ 1,80,00,000', '₹ 15,00,000',\n",
       "       '₹ 77,00,000', '₹ 90,00,000', '₹ 10,00,000', '₹ 51,00,000',\n",
       "       '₹ 27,00,000', '₹ 1,60,00,000', '₹ 99,00,000', '₹ 3,00,00,000',\n",
       "       '₹ 2,60,00,000', '₹ 71,00,000', '₹ 1,00,00,000', '₹ 12,75,000',\n",
       "       '₹ 31,99,999', '₹ 6,35,00,000', '₹ 24,90,000', '₹ 9,90,000',\n",
       "       '₹ 14,90,000', '₹ 29,25,000', '₹ 24,21,000', '₹ 18,49,998',\n",
       "       '₹ 18,49,999', '₹ 21,00,000', '₹ 9,90,00,000', '₹ 49,99,000',\n",
       "       '₹ 11,00,000', '₹ 78,00,000', '₹ 29,50,000', '₹ 2,70,00,000',\n",
       "       '₹ 3,50,00,000', '₹ 40,000', '₹ 73,00,000', '₹ 44,99,999',\n",
       "       '₹ 18,00,000', '₹ 20,96,666', '₹ 4,00,000', '₹ 61,00,000',\n",
       "       '₹ 63,22,110', '₹ 34,50,000', '₹ 39,55,000', '₹ 2,00,00,000',\n",
       "       '₹ 23,50,000', '₹ 53,00,000', '₹ 2,40,00,000', '₹ 72,90,000',\n",
       "       '₹ 1,02,00,000', '₹ 3,85,00,000', '₹ 10,000', '₹ 20,97,222',\n",
       "       '₹ 13,00,000', '₹ 11,50,000', '₹ 26,99,456', '₹ 36,99,999',\n",
       "       '₹ 20,99,963', '₹ 15,000', '₹ 98,00,000', '₹ 6,99,999',\n",
       "       '₹ 17,90,000', '₹ 12,51,551', '₹ 14,00,000', '₹ 20,45,625',\n",
       "       '₹ 29,99,452', '₹ 27,98,850', '₹ 54,99,999', '₹ 27,54,200',\n",
       "       '₹ 1,48,00,000', '₹ 5,50,00,000', '₹ 2,35,00,000', '₹ 31,18,450',\n",
       "       '₹ 54,85,000', '₹ 19,00,000', '₹ 45,99,999', '₹ 86,00,000',\n",
       "       '₹ 88,00,000', '₹ 2,85,00,000', '₹ 21,99,000', '₹ 49,00,000',\n",
       "       '₹ 84,00,000', '₹ 54,00,000'], dtype=object)"
      ]
     },
     "execution_count": 59,
     "metadata": {},
     "output_type": "execute_result"
    }
   ],
   "source": [
    "raw.price.unique()"
   ]
  },
  {
   "cell_type": "code",
   "execution_count": 61,
   "id": "approximate-crime",
   "metadata": {},
   "outputs": [],
   "source": [
    "# price\n",
    "\n",
    "raw['price'] = raw['price'].str.replace(\",\",\"\").str.replace(\"₹\",\"\").str.strip().astype(float)/1000"
   ]
  },
  {
   "cell_type": "code",
   "execution_count": 65,
   "id": "blank-demographic",
   "metadata": {},
   "outputs": [
    {
     "data": {
      "text/plain": [
       "array(['NorthEast', 'SouthEast', 'East', nan, 'West', 'SouthWest',\n",
       "       'North', 'South', 'NorthWest'], dtype=object)"
      ]
     },
     "execution_count": 65,
     "metadata": {},
     "output_type": "execute_result"
    }
   ],
   "source": [
    "raw.facing.unique()"
   ]
  },
  {
   "cell_type": "code",
   "execution_count": 82,
   "id": "premier-adoption",
   "metadata": {},
   "outputs": [],
   "source": [
    "# facing\n",
    "\n",
    "for i in range(0,len(raw)):\n",
    "    try:\n",
    "        raw['facing'][i] = raw['facing'][i].strip(\"['']\").lower().replace(\"-\",\"\")\n",
    "    except:\n",
    "        continue"
   ]
  },
  {
   "cell_type": "code",
   "execution_count": null,
   "id": "1bed8663",
   "metadata": {},
   "outputs": [],
   "source": []
  },
  {
   "cell_type": "code",
   "execution_count": 66,
   "id": "independent-syndication",
   "metadata": {},
   "outputs": [
    {
     "data": {
      "text/plain": [
       "array([\"['4']\", nan, \"['2']\", \"['1']\", \"['0']\", \"['7']\", \"['8']\", \"['5']\",\n",
       "       \"['9']\", \"['3']\", \"['12']\", \"['20']\", \"['6']\", \"['16']\", \"['03']\",\n",
       "       \"['00']\", \"['10']\", \"['18']\"], dtype=object)"
      ]
     },
     "execution_count": 66,
     "metadata": {},
     "output_type": "execute_result"
    }
   ],
   "source": [
    "raw.floor_no.unique()"
   ]
  },
  {
   "cell_type": "code",
   "execution_count": 67,
   "id": "preliminary-teach",
   "metadata": {},
   "outputs": [],
   "source": [
    "# floor_number\n",
    "\n",
    "for i in range(0,len(raw)):\n",
    "    try:\n",
    "        raw['floor_no'][i] = raw['floor_no'][i].strip(\"['']\")\n",
    "    except:\n",
    "        continue"
   ]
  },
  {
   "cell_type": "code",
   "execution_count": 68,
   "id": "daily-twelve",
   "metadata": {},
   "outputs": [],
   "source": [
    "raw.floor_no = raw.floor_no.astype(float)"
   ]
  },
  {
   "cell_type": "code",
   "execution_count": 69,
   "id": "suspected-calibration",
   "metadata": {},
   "outputs": [
    {
     "data": {
      "text/plain": [
       "array([\"['New Launch']\", \"['Ready to Move']\", nan,\n",
       "       \"['Under Construction']\"], dtype=object)"
      ]
     },
     "execution_count": 69,
     "metadata": {},
     "output_type": "execute_result"
    }
   ],
   "source": [
    "raw.constr_info.unique()"
   ]
  },
  {
   "cell_type": "code",
   "execution_count": 70,
   "id": "centered-width",
   "metadata": {},
   "outputs": [],
   "source": [
    "# Construction Status\n",
    "\n",
    "for i in range(0,len(raw)):\n",
    "    try:\n",
    "        raw['constr_info'][i] = raw['constr_info'][i].strip(\"['']\").lower().replace(\" \",\"\")\n",
    "    except:\n",
    "        continue"
   ]
  },
  {
   "cell_type": "code",
   "execution_count": 71,
   "id": "graphic-mistake",
   "metadata": {},
   "outputs": [
    {
     "data": {
      "text/plain": [
       "array([\"['Semi-Furnished']\", \"['Furnished']\", nan, \"['Unfurnished']\"],\n",
       "      dtype=object)"
      ]
     },
     "execution_count": 71,
     "metadata": {},
     "output_type": "execute_result"
    }
   ],
   "source": [
    "raw.furnishing.unique()"
   ]
  },
  {
   "cell_type": "code",
   "execution_count": 72,
   "id": "designing-folder",
   "metadata": {},
   "outputs": [],
   "source": [
    "# furnishing\n",
    "\n",
    "for i in range(0,len(raw)):\n",
    "    try:\n",
    "        raw['furnishing'][i] = raw['furnishing'][i].strip(\"['']\").lower().replace(\"-\",\"\")\n",
    "    except:\n",
    "        continue"
   ]
  },
  {
   "cell_type": "code",
   "execution_count": 73,
   "id": "magnetic-danger",
   "metadata": {},
   "outputs": [
    {
     "data": {
      "text/plain": [
       "array([\"['3']\", \"['4']\", nan, \"['1']\", \"['2']\", \"['4+']\"], dtype=object)"
      ]
     },
     "execution_count": 73,
     "metadata": {},
     "output_type": "execute_result"
    }
   ],
   "source": [
    "raw.bathrooms.unique()"
   ]
  },
  {
   "cell_type": "code",
   "execution_count": 74,
   "id": "adult-volleyball",
   "metadata": {},
   "outputs": [],
   "source": [
    "# bathrooms\n",
    "\n",
    "for i in range(0,len(raw)):\n",
    "    try:\n",
    "        raw['bathrooms'][i] = raw['bathrooms'][i].strip(\"['']\")\n",
    "    except:\n",
    "        continue"
   ]
  },
  {
   "cell_type": "code",
   "execution_count": 75,
   "id": "2482e60e",
   "metadata": {},
   "outputs": [
    {
     "data": {
      "text/plain": [
       "2     151\n",
       "3     104\n",
       "4      48\n",
       "1      46\n",
       "4+     18\n",
       "Name: bathrooms, dtype: int64"
      ]
     },
     "execution_count": 75,
     "metadata": {},
     "output_type": "execute_result"
    }
   ],
   "source": [
    "raw.bathrooms.value_counts()"
   ]
  },
  {
   "cell_type": "code",
   "execution_count": 76,
   "id": "attractive-tobago",
   "metadata": {},
   "outputs": [],
   "source": [
    "raw.bathrooms.replace('4+', '5', inplace=True)\n",
    "raw.bathrooms = raw.bathrooms.astype(float)"
   ]
  },
  {
   "cell_type": "code",
   "execution_count": 77,
   "id": "introductory-colonial",
   "metadata": {},
   "outputs": [
    {
     "data": {
      "text/plain": [
       "array([\"['3']\", \"['4']\", \"['1']\", \"['2']\", nan, \"['4+']\"], dtype=object)"
      ]
     },
     "execution_count": 77,
     "metadata": {},
     "output_type": "execute_result"
    }
   ],
   "source": [
    "raw.bedrooms.unique()"
   ]
  },
  {
   "cell_type": "code",
   "execution_count": 78,
   "id": "registered-ethics",
   "metadata": {},
   "outputs": [],
   "source": [
    "# bedrooms\n",
    "\n",
    "for i in range(0,len(raw)):\n",
    "    try:\n",
    "        raw['bedrooms'][i] = raw['bedrooms'][i].strip(\"['']\")\n",
    "    except:\n",
    "        continue"
   ]
  },
  {
   "cell_type": "code",
   "execution_count": 80,
   "id": "nominated-notion",
   "metadata": {},
   "outputs": [],
   "source": [
    "raw.bedrooms.replace('4+', '5', inplace=True)\n",
    "raw.bedrooms = raw.bedrooms.astype(float)"
   ]
  },
  {
   "cell_type": "code",
   "execution_count": 81,
   "id": "actual-receipt",
   "metadata": {
    "scrolled": true
   },
   "outputs": [
    {
     "data": {
      "text/plain": [
       "array([\"['1481']\", \"['1650']\", \"['3051']\", \"['3000']\", \"['450']\",\n",
       "       \"['1200']\", \"['1500']\", \"['1600']\", \"['920']\", \"['1400']\",\n",
       "       \"['1050']\", \"['1150']\", \"['900']\", \"['1300']\", \"['00']\",\n",
       "       \"['1285']\", \"['2100']\", \"['1250']\", \"['938']\", \"['985']\",\n",
       "       \"['1592']\", \"['791']\", \"['125']\", \"['1750']\", \"['1900']\",\n",
       "       \"['1800']\", \"['117']\", \"['715']\", \"['1350']\", \"['850']\", nan,\n",
       "       \"['1298']\", \"['1080']\", \"['1100']\", \"['921']\", \"['1550']\",\n",
       "       \"['784']\", \"['1432']\", \"['950']\", \"['2900']\", \"['2390']\",\n",
       "       \"['1738']\", \"['2398']\", \"['1700']\", \"['4500']\", \"['800']\",\n",
       "       \"['1685']\", \"['1064']\", \"['974']\", \"['2200']\", \"['1395']\",\n",
       "       \"['2700']\", \"['625']\", \"['1950']\", \"['1110']\", \"['1130']\",\n",
       "       \"['1209']\", \"['300']\", \"['543']\", \"['1233']\", \"['712']\", \"['771']\",\n",
       "       \"['2500']\", \"['2360']\", \"['1000']\", \"['1537']\", \"['991']\",\n",
       "       \"['2000']\", \"['24']\", \"['1230']\", \"['2300']\", \"['513']\", \"['423']\",\n",
       "       \"['725']\", \"['1066']\", \"['720']\", \"['520']\", \"['650']\", \"['1210']\",\n",
       "       \"['1999']\", \"['3150']\", \"['2350']\", \"['460']\", \"['1602']\",\n",
       "       \"['2400']\", \"['1070']\", \"['856']\", \"['433']\", \"['750']\", \"['591']\",\n",
       "       \"['700']\", \"['600']\", \"['925']\", \"['550']\", \"['2600']\", \"['5700']\",\n",
       "       \"['1045']\", \"['455']\", \"['640']\", \"['775']\", \"['701']\", \"['35']\",\n",
       "       \"['990']\", \"['891']\", \"['690']\", \"['1421']\", \"['2783']\",\n",
       "       \"['1689']\", \"['5500']\", \"['6000']\", \"['1475']\", \"['400']\",\n",
       "       \"['1322']\", \"['1848']\", \"['1138']\", \"['18528']\", \"['500']\",\n",
       "       \"['603']\", \"['521']\", \"['1450']\", \"['1560']\", \"['594']\", \"['615']\",\n",
       "       \"['1403']\", \"['2007']\", \"['2305']\", \"['1735']\", \"['835']\",\n",
       "       \"['370']\", \"['4276']\", \"['1399']\", \"['1850']\", \"['1441']\",\n",
       "       \"['1123']\", \"['940']\", \"['2950']\", \"['1215']\", \"['1281']\",\n",
       "       \"['100']\", \"['1170']\", \"['1132']\", \"['910']\", \"['000']\", \"['32']\",\n",
       "       \"['590']\", \"['1265']\", \"['425']\", \"['782']\", \"['5']\", \"['1120']\",\n",
       "       \"['855']\", \"['1191']\", \"['1172']\", \"['4000']\", \"['1327']\",\n",
       "       \"['395']\", \"['1206']\", \"['860']\", \"['893']\", \"['1147']\",\n",
       "       \"['1035']\", \"['680']\", \"['1686']\", \"['1384']\", \"['1785']\"],\n",
       "      dtype=object)"
      ]
     },
     "execution_count": 81,
     "metadata": {},
     "output_type": "execute_result"
    }
   ],
   "source": [
    "raw.sqft.unique()"
   ]
  },
  {
   "cell_type": "code",
   "execution_count": 82,
   "id": "modern-confusion",
   "metadata": {},
   "outputs": [],
   "source": [
    "# sqft\n",
    "\n",
    "for i in range(0,len(raw)):\n",
    "    try:\n",
    "        raw['sqft'][i] = raw['sqft'][i].strip(\"['']\")\n",
    "    except:\n",
    "        continue"
   ]
  },
  {
   "cell_type": "code",
   "execution_count": 83,
   "id": "extensive-conspiracy",
   "metadata": {},
   "outputs": [],
   "source": [
    "raw.sqft = raw.sqft.astype(float)"
   ]
  },
  {
   "cell_type": "code",
   "execution_count": 84,
   "id": "similar-crossing",
   "metadata": {},
   "outputs": [
    {
     "data": {
      "text/plain": [
       "array([\"['Apartments']\", \"['Houses & Villas']\", \"['Builder Floors']\", nan,\n",
       "       \"['Farm Houses']\"], dtype=object)"
      ]
     },
     "execution_count": 84,
     "metadata": {},
     "output_type": "execute_result"
    }
   ],
   "source": [
    "raw.house_type.unique()"
   ]
  },
  {
   "cell_type": "code",
   "execution_count": 85,
   "id": "polished-persian",
   "metadata": {},
   "outputs": [],
   "source": [
    "# House_type\n",
    "\n",
    "for i in range(0,len(raw)):\n",
    "    try:\n",
    "        raw['house_type'][i] = raw['house_type'][i].strip(\"['']\").lower().replace(\" \",\"\").replace(\"&\",\"\")\n",
    "    except:\n",
    "        continue"
   ]
  },
  {
   "cell_type": "code",
   "execution_count": 86,
   "id": "nervous-bulgaria",
   "metadata": {
    "scrolled": true
   },
   "outputs": [
    {
     "data": {
      "text/plain": [
       "array(['Sector 88, Mohali, Punjab', 'JP Nagar, Mysuru, Karnataka',\n",
       "       'Pal Village, Surat, Gujarat', 'Thevara, Kochi, Kerala',\n",
       "       'Mayur Vihar, Jaipur, Rajasthan',\n",
       "       'Hanumant Nagar, Jaipur, Rajasthan', 'Kakkanad, Kochi, Kerala',\n",
       "       'Peelamedu, Coimbatore, Tamil Nadu',\n",
       "       'Pantheerankavu, Olavanna, Kerala',\n",
       "       'Kalwar Road, Jaipur, Rajasthan', 'Niwaru Road, Jaipur, Rajasthan',\n",
       "       'Laxmi Nagar, Jaipur, Rajasthan',\n",
       "       'Nagondapalli, Mathigiri, Tamil Nadu', 'Edapally, Kochi, Kerala',\n",
       "       'Waghodia Road, Vadodara, Gujarat',\n",
       "       'Kazhakoottam, Thiruvananthapuram, Kerala',\n",
       "       'Patancheru, Hyderabad, Telangana', 'Bill Road, Vadodara, Gujarat',\n",
       "       'Ved Vyas Puri, Meerut, Uttar Pradesh',\n",
       "       'Ottapalam, Ottappalam, Kerala', 'Punkunnam, Thrissur, Kerala',\n",
       "       'Kharadi, Pune, Maharashtra', 'Kalyani Nagar, Pune, Maharashtra',\n",
       "       'Chandkheda, Ahmedabad, Gujarat', 'Sector 66A, Mohali, Punjab',\n",
       "       'Thirumala, Thiruvananthapuram, Kerala',\n",
       "       'Vattiyoorkavu, Thiruvananthapuram, Kerala',\n",
       "       'Murlipura, Jaipur, Rajasthan', 'Thripunithura, Kochi, Kerala',\n",
       "       'Mianwali Colony, Gurgaon, Haryana', 'Babiyal, Ambala, Haryana',\n",
       "       'Chalakkal East, Vazhakulam, Kerala',\n",
       "       'Shikargarh, Jodhpur, Rajasthan',\n",
       "       'Krishna Colony, Gurgaon, Haryana', nan,\n",
       "       'Ambala Chandigarh Expressway, Zirakpur, Punjab',\n",
       "       'Manikonda, Hyderabad, Telangana', 'Pgi, Lucknow, Uttar Pradesh',\n",
       "       'Mohishila, Asansol MC, West Bengal', 'Puthiyakavu, Kochi, Kerala',\n",
       "       'Vaishali Nagar, Jaipur, Rajasthan',\n",
       "       'Subbiah Colony, Tiruppur, Tamil Nadu',\n",
       "       'Hosur - Bagalur Road, Hosur, Tamil Nadu',\n",
       "       'Padamugal, Kochi, Kerala',\n",
       "       'Siddartha Vihar, Ghaziabad, Uttar Pradesh',\n",
       "       'Shilphata Road, Thane, Maharashtra',\n",
       "       'Sreekaryam, Thiruvananthapuram, Kerala',\n",
       "       'Sigma IV, Greater Noida, Uttar Pradesh',\n",
       "       'Dabhoi Waghodia Ring Road, Vadodara, Gujarat',\n",
       "       'Tarsali, Vadodara, Gujarat', 'Nilamber Circle, Vadodara, Gujarat',\n",
       "       'Viyyur, Thrissur, Kerala',\n",
       "       'Ajit Sing Nagar, Vijayawada, Andhra Pradesh',\n",
       "       'Shilp Nagar, Udaipur, Rajasthan', 'Uttam Nagar, Delhi, Delhi',\n",
       "       'Sadar Bazar, Gurgaon, Haryana',\n",
       "       'Magarpatta City, Pune, Maharashtra',\n",
       "       'Hadapsar, Pune, Maharashtra', 'Sector 85, Mohali, Punjab',\n",
       "       'Akanksha Nagar, Bharuch, Gujarat', 'Dwarka Mor, Delhi, Delhi',\n",
       "       'Nikol - Naroda Road, Ahmedabad, Gujarat',\n",
       "       'Meenachil, Palai, Kerala', 'Garden Colony, Kharar, Punjab',\n",
       "       'Sector 105, Gurgaon, Haryana', 'Sector 6, Gurgaon, Haryana',\n",
       "       'Palanpur Jakatnaka, Surat, Gujarat', 'Adajan, Surat, Gujarat',\n",
       "       'Narthan Dandi Road, Surat, Gujarat',\n",
       "       'Jahangir Pura, Surat, Gujarat', 'Palanpur, Surat, Gujarat',\n",
       "       'Gauravpath Road, Surat, Gujarat',\n",
       "       'Fathimapuram, Changanacheri, Kerala',\n",
       "       'Shiupur, Varanasi, Uttar Pradesh',\n",
       "       'Urapakkam, Chennai, Tamil Nadu',\n",
       "       'Anand Mahal Road Area, Surat, Gujarat',\n",
       "       'Kalkidhar Avenue, Jalandhar, Punjab',\n",
       "       'Urban Estate, Jalandhar, Punjab', 'Edappally, Kochi, Kerala',\n",
       "       'Enikepadu, Vijayawada, Andhra Pradesh',\n",
       "       'Vijayawada Bus Stand Area, Vijayawada, Andhra Pradesh',\n",
       "       'Bhayli-Sunpharma Link Road, Vadodara, Gujarat',\n",
       "       'Renigunta, Tirupati, Andhra Pradesh', 'Chattarpur, Delhi, Delhi',\n",
       "       'Kapurai, Vadodara, Gujarat', 'Nawada, Delhi, Delhi',\n",
       "       'Karumalloor, Kadungalloor, Kerala',\n",
       "       'Sattangadu, Chennai, Tamil Nadu', 'Thattamala, Kollam, Kerala',\n",
       "       'Nedumbassery, Kochi, Kerala', 'Rajendra Park, Gurgaon, Haryana',\n",
       "       'Tripunithura, Kochi, Kerala',\n",
       "       'Govindpuram, Ghaziabad, Uttar Pradesh',\n",
       "       'Vasai East, Mumbai, Maharashtra', 'Mumbra, Thane, Maharashtra',\n",
       "       'Poovalapp, South Thrikkaripur, Kerala',\n",
       "       'Sijua Patrapada, Bhubaneshwar, Odisha',\n",
       "       'Assissi Nagar, Aluva, Kerala',\n",
       "       'Khatibaba Mohalla, Jhansi, Uttar Pradesh',\n",
       "       'Barasat- Barrackpore Road, Kolkata, West Bengal',\n",
       "       'Kausa, Thane, Maharashtra',\n",
       "       'PHI IV, Greater Noida, Uttar Pradesh', 'Varapuzha, Kochi, Kerala',\n",
       "       'Madhu Vihar, Delhi, Delhi', 'Annakudu, Thodupuzha, Kerala',\n",
       "       'HMT Swarnapuri Colony, Hyderabad, Telangana',\n",
       "       'Alangad, Kadungalloor, Kerala',\n",
       "       'Ramavarappadu, Vijayawada, Andhra Pradesh',\n",
       "       'Movathapuzha, Thodupuzha, Kerala',\n",
       "       'Nungambakkam Haddows, Chennai, Tamil Nadu',\n",
       "       'Mumbai Central, Mumbai, Maharashtra',\n",
       "       'Central Secretariat, Delhi, Delhi',\n",
       "       'Virar East, Mumbai, Maharashtra', 'Karapalli, Hosur, Tamil Nadu',\n",
       "       'Kakkodi, Kozhikode, Kerala',\n",
       "       'Dronagiri, Navi Mumbai, Maharashtra',\n",
       "       'Nadergul, Hyderabad, Telangana',\n",
       "       'Dadar Kulba, Muzaffarpur, Bihar',\n",
       "       'Gopalapuram, Chennai, Tamil Nadu',\n",
       "       'Whitefield, Bengaluru, Karnataka',\n",
       "       'Jagieetpur, Haridwar, Uttaranchal',\n",
       "       'Electronic City Phase II, Bengaluru, Karnataka',\n",
       "       'Kadugodi, Bengaluru, Karnataka',\n",
       "       'Veer Savarkar Nagar, Bareilly, Uttar Pradesh',\n",
       "       'Vijaya Nagar Colony, Hyderabad, Telangana',\n",
       "       'Borkhera, Kota, Rajasthan', 'Mira Road East, Mumbai, Maharashtra',\n",
       "       'Keshar Bagh, Patiala, Punjab', 'Peroor, Ettumanoor, Kerala',\n",
       "       'Nayabad, Kolkata, West Bengal',\n",
       "       'Kasaidanga, Puruliya, West Bengal',\n",
       "       'Shyampur, Bhubaneshwar, Odisha',\n",
       "       'Santoshi Nagar, Raipur, Chhattisgarh',\n",
       "       'Basni Phase I, Jodhpur, Rajasthan',\n",
       "       'Raj Nagar Extension, Ghaziabad, Uttar Pradesh',\n",
       "       'Kayamkulam, Bharanikkavu, Kerala',\n",
       "       'Palghar Industrial Area, Palghar, Maharashtra',\n",
       "       'Tagore Nagar, Bhopal, Madhya Pradesh',\n",
       "       'Kanathur, Chennai, Tamil Nadu', 'Badangpet, Hyderabad, Telangana',\n",
       "       'Model Town, Jalandhar, Punjab',\n",
       "       'Eenadu, Vijayawada, Andhra Pradesh',\n",
       "       'Sector 4 Gurgaon, Gurgaon, Haryana',\n",
       "       'Canara Bank Colony, Vijayawada, Andhra Pradesh',\n",
       "       'American Hospital, Vijayawada, Andhra Pradesh',\n",
       "       'Nangiarkulangara, Chingoli, Kerala',\n",
       "       'Salappa Layout VS Garden, Bengaluru, Karnataka',\n",
       "       'Sector 127, Mohali, Punjab', 'Chanda Nagar, Hyderabad, Telangana',\n",
       "       'Tirurangadi Town, Tirurangadi, Kerala',\n",
       "       'Sector 18, Noida, Uttar Pradesh', 'Rohta, Agra, Uttar Pradesh',\n",
       "       'Nehru Nagar, Thrissur, Kerala', 'Cherukulam, Kozhikode, Kerala',\n",
       "       'Annapurna Nagar, Guntur, Andhra Pradesh',\n",
       "       'Dombivli East, Thane, Maharashtra',\n",
       "       'Shivajee Nagar, Jabalpur, Madhya Pradesh',\n",
       "       'Thirumullaivoyal, Chennai, Tamil Nadu',\n",
       "       'Baguiati, Kolkata, West Bengal',\n",
       "       'Omaxe Township, Ludhiana, Punjab',\n",
       "       'Venkateshwara Colony, Mahbubnagar, Telangana',\n",
       "       'Pukkattupady, Choornikkara, Kerala',\n",
       "       'Kuttiadi, Kozhikode, Kerala', 'TC Palya, Bengaluru, Karnataka',\n",
       "       'Mangalapuram, Thiruvananthapuram, Kerala',\n",
       "       'Kankarkhera, Meerut, Uttar Pradesh',\n",
       "       'Gattahalli, Bengaluru, Karnataka',\n",
       "       'Puliyanam road, Angamaly, Kerala',\n",
       "       'Nadakkapadam-Changancherry, Kottayam, Kerala',\n",
       "       'Madukkarai, Coimbatore, Tamil Nadu',\n",
       "       'Coimbatore Old City, Coimbatore, Tamil Nadu',\n",
       "       'Andheri West, Mumbai, Maharashtra',\n",
       "       'Gandhipuram, Coimbatore, Tamil Nadu',\n",
       "       'Sita Ram Gate, Jhajjar, Haryana',\n",
       "       'Borsi Colony, Durg, Chhattisgarh', 'Ayroor, Varkala, Kerala',\n",
       "       'Bhangagarh, Guwahati, Assam',\n",
       "       'Coimbatore Central Railway Station, Coimbatore, Tamil Nadu',\n",
       "       'Elanjipra, Chalakudy, Kerala',\n",
       "       'Jogeshwari West, Mumbai, Maharashtra',\n",
       "       'Kand 373, Dharamsala, Himachal Pradesh',\n",
       "       'Mettankadu, Madukkarai, Tamil Nadu',\n",
       "       'Edayanchavadi, Chennai, Tamil Nadu',\n",
       "       'Kharghar, Navi Mumbai, Maharashtra',\n",
       "       'Sector 1 Noida extension, Greater Noida, Uttar Pradesh',\n",
       "       'Chandlodia, Ahmedabad, Gujarat',\n",
       "       'Veppampattu railway station, Chennai, Tamil Nadu',\n",
       "       'Barkheri Kalan, Bhopal, Madhya Pradesh',\n",
       "       'Kengeri Satellite Town, Bengaluru, Karnataka',\n",
       "       'Banjarawala, Dehradun, Uttaranchal',\n",
       "       'Sundarapuram, Coimbatore, Tamil Nadu',\n",
       "       'Kochi University, Kochi, Kerala', 'Scheme No 2, Alwar, Rajasthan',\n",
       "       'Mohan Garden, Delhi, Delhi', 'Sector 115, Mohali, Punjab',\n",
       "       'Navsari Bazar Area, Surat, Gujarat',\n",
       "       'Taruwala, Paonta Sahib, Himachal Pradesh',\n",
       "       'Narshamuda Village, Asansol MC, West Bengal',\n",
       "       'Santi Nagar, Bhiwani, Haryana', 'Thykoodam, Kochi, Kerala',\n",
       "       'Kadavanthra, Kochi, Kerala', 'Chilavannur, Kochi, Kerala',\n",
       "       'Riverside Township, Asansol MC, West Bengal',\n",
       "       'Indirapuram, Ghaziabad, Uttar Pradesh',\n",
       "       'North Nada, Guruvayur, Kerala', 'Sirsi road, Jaipur, Rajasthan',\n",
       "       'Thavalakuzhy, Ettumanoor, Kerala',\n",
       "       'Adambakkam, Chennai, Tamil Nadu', 'OMR, Chennai, Tamil Nadu',\n",
       "       'Madipakkam, Chennai, Tamil Nadu',\n",
       "       'Vasant Vihar, Bilaspur, Chhattisgarh',\n",
       "       'Pokkunnu, Kozhikode, Kerala',\n",
       "       'Sipcot Industrial Park Irunkattukottia, Chennai, Tamil Nadu',\n",
       "       'Matigara, Siliguri, West Bengal', 'Muringoor, Koratty, Kerala',\n",
       "       'Vartak Nagar, Thane, Maharashtra',\n",
       "       'SEVOKE ROAD, Siliguri, West Bengal',\n",
       "       'Jyoti Nagar, Siliguri, West Bengal', 'Manipal, Udupi, Karnataka',\n",
       "       'Booty, Ranchi, Jharkhand'], dtype=object)"
      ]
     },
     "execution_count": 86,
     "metadata": {},
     "output_type": "execute_result"
    }
   ],
   "source": [
    "raw.location.unique()"
   ]
  },
  {
   "cell_type": "code",
   "execution_count": 87,
   "id": "24bb58fe",
   "metadata": {},
   "outputs": [],
   "source": [
    "area, city, state = raw['location'][0].strip().split(\",\")[-3:]"
   ]
  },
  {
   "cell_type": "code",
   "execution_count": 88,
   "id": "89092d98",
   "metadata": {},
   "outputs": [
    {
     "data": {
      "text/plain": [
       "('Sector 88', ' Mohali', ' Punjab')"
      ]
     },
     "execution_count": 88,
     "metadata": {},
     "output_type": "execute_result"
    }
   ],
   "source": [
    "area, city, state"
   ]
  },
  {
   "cell_type": "code",
   "execution_count": 89,
   "id": "horizontal-telephone",
   "metadata": {},
   "outputs": [],
   "source": [
    "# location\n",
    "raw['area'] = np.nan\n",
    "raw['city'] = np.nan\n",
    "raw['state'] = np.nan\n",
    "\n",
    "for i in range(0,len(raw)):\n",
    "    try:\n",
    "        area, city, state = raw['location'][i].strip().split(\",\")[-3:]\n",
    "        raw['area'][i] = area\n",
    "        raw['city'][i] = city\n",
    "        raw['state'][i] = state\n",
    "        \n",
    "    except:\n",
    "        continue"
   ]
  },
  {
   "cell_type": "code",
   "execution_count": 90,
   "id": "earned-fashion",
   "metadata": {},
   "outputs": [
    {
     "data": {
      "text/html": [
       "<div>\n",
       "<style scoped>\n",
       "    .dataframe tbody tr th:only-of-type {\n",
       "        vertical-align: middle;\n",
       "    }\n",
       "\n",
       "    .dataframe tbody tr th {\n",
       "        vertical-align: top;\n",
       "    }\n",
       "\n",
       "    .dataframe thead th {\n",
       "        text-align: right;\n",
       "    }\n",
       "</style>\n",
       "<table border=\"1\" class=\"dataframe\">\n",
       "  <thead>\n",
       "    <tr style=\"text-align: right;\">\n",
       "      <th></th>\n",
       "      <th>Ad_link</th>\n",
       "      <th>location</th>\n",
       "      <th>house_type</th>\n",
       "      <th>sqft</th>\n",
       "      <th>bedrooms</th>\n",
       "      <th>bathrooms</th>\n",
       "      <th>furnishing</th>\n",
       "      <th>constr_info</th>\n",
       "      <th>floor_no</th>\n",
       "      <th>facing</th>\n",
       "      <th>price</th>\n",
       "      <th>area</th>\n",
       "      <th>city</th>\n",
       "      <th>state</th>\n",
       "    </tr>\n",
       "  </thead>\n",
       "  <tbody>\n",
       "    <tr>\n",
       "      <th>0</th>\n",
       "      <td>https://www.olx.in/item/book-3bhk-in-hero-home...</td>\n",
       "      <td>Sector 88, Mohali, Punjab</td>\n",
       "      <td>apartments</td>\n",
       "      <td>1481.0</td>\n",
       "      <td>3.0</td>\n",
       "      <td>3.0</td>\n",
       "      <td>semifurnished</td>\n",
       "      <td>newlaunch</td>\n",
       "      <td>4.0</td>\n",
       "      <td>NorthEast</td>\n",
       "      <td>8530.0</td>\n",
       "      <td>Sector 88</td>\n",
       "      <td>Mohali</td>\n",
       "      <td>Punjab</td>\n",
       "    </tr>\n",
       "    <tr>\n",
       "      <th>1</th>\n",
       "      <td>https://www.olx.in/item/3055-3bhk-brand-new-ho...</td>\n",
       "      <td>JP Nagar, Mysuru, Karnataka</td>\n",
       "      <td>housesvillas</td>\n",
       "      <td>1650.0</td>\n",
       "      <td>3.0</td>\n",
       "      <td>3.0</td>\n",
       "      <td>furnished</td>\n",
       "      <td>readytomove</td>\n",
       "      <td>NaN</td>\n",
       "      <td>SouthEast</td>\n",
       "      <td>10500.0</td>\n",
       "      <td>JP Nagar</td>\n",
       "      <td>Mysuru</td>\n",
       "      <td>Karnataka</td>\n",
       "    </tr>\n",
       "    <tr>\n",
       "      <th>2</th>\n",
       "      <td>https://www.olx.in/item/4bhk-ready-possession-...</td>\n",
       "      <td>Pal Village, Surat, Gujarat</td>\n",
       "      <td>apartments</td>\n",
       "      <td>3051.0</td>\n",
       "      <td>4.0</td>\n",
       "      <td>4.0</td>\n",
       "      <td>semifurnished</td>\n",
       "      <td>readytomove</td>\n",
       "      <td>2.0</td>\n",
       "      <td>East</td>\n",
       "      <td>17000.0</td>\n",
       "      <td>Pal Village</td>\n",
       "      <td>Surat</td>\n",
       "      <td>Gujarat</td>\n",
       "    </tr>\n",
       "    <tr>\n",
       "      <th>3</th>\n",
       "      <td>https://www.olx.in/item/12-cents-with-old-hous...</td>\n",
       "      <td>Thevara, Kochi, Kerala</td>\n",
       "      <td>housesvillas</td>\n",
       "      <td>3000.0</td>\n",
       "      <td>4.0</td>\n",
       "      <td>NaN</td>\n",
       "      <td>NaN</td>\n",
       "      <td>NaN</td>\n",
       "      <td>NaN</td>\n",
       "      <td>NaN</td>\n",
       "      <td>15000.0</td>\n",
       "      <td>Thevara</td>\n",
       "      <td>Kochi</td>\n",
       "      <td>Kerala</td>\n",
       "    </tr>\n",
       "    <tr>\n",
       "      <th>4</th>\n",
       "      <td>https://www.olx.in/item/1bhk-flat-in-laxmi-nag...</td>\n",
       "      <td>Mayur Vihar, Jaipur, Rajasthan</td>\n",
       "      <td>apartments</td>\n",
       "      <td>450.0</td>\n",
       "      <td>1.0</td>\n",
       "      <td>1.0</td>\n",
       "      <td>semifurnished</td>\n",
       "      <td>readytomove</td>\n",
       "      <td>1.0</td>\n",
       "      <td>East</td>\n",
       "      <td>1050.0</td>\n",
       "      <td>Mayur Vihar</td>\n",
       "      <td>Jaipur</td>\n",
       "      <td>Rajasthan</td>\n",
       "    </tr>\n",
       "  </tbody>\n",
       "</table>\n",
       "</div>"
      ],
      "text/plain": [
       "                                             Ad_link  \\\n",
       "0  https://www.olx.in/item/book-3bhk-in-hero-home...   \n",
       "1  https://www.olx.in/item/3055-3bhk-brand-new-ho...   \n",
       "2  https://www.olx.in/item/4bhk-ready-possession-...   \n",
       "3  https://www.olx.in/item/12-cents-with-old-hous...   \n",
       "4  https://www.olx.in/item/1bhk-flat-in-laxmi-nag...   \n",
       "\n",
       "                         location    house_type    sqft  bedrooms  bathrooms  \\\n",
       "0       Sector 88, Mohali, Punjab    apartments  1481.0       3.0        3.0   \n",
       "1     JP Nagar, Mysuru, Karnataka  housesvillas  1650.0       3.0        3.0   \n",
       "2     Pal Village, Surat, Gujarat    apartments  3051.0       4.0        4.0   \n",
       "3          Thevara, Kochi, Kerala  housesvillas  3000.0       4.0        NaN   \n",
       "4  Mayur Vihar, Jaipur, Rajasthan    apartments   450.0       1.0        1.0   \n",
       "\n",
       "      furnishing  constr_info  floor_no     facing    price         area  \\\n",
       "0  semifurnished    newlaunch       4.0  NorthEast   8530.0    Sector 88   \n",
       "1      furnished  readytomove       NaN  SouthEast  10500.0     JP Nagar   \n",
       "2  semifurnished  readytomove       2.0       East  17000.0  Pal Village   \n",
       "3            NaN          NaN       NaN        NaN  15000.0      Thevara   \n",
       "4  semifurnished  readytomove       1.0       East   1050.0  Mayur Vihar   \n",
       "\n",
       "      city       state  \n",
       "0   Mohali      Punjab  \n",
       "1   Mysuru   Karnataka  \n",
       "2    Surat     Gujarat  \n",
       "3    Kochi      Kerala  \n",
       "4   Jaipur   Rajasthan  "
      ]
     },
     "execution_count": 90,
     "metadata": {},
     "output_type": "execute_result"
    }
   ],
   "source": [
    "raw.head()"
   ]
  },
  {
   "cell_type": "markdown",
   "id": "proof-slovenia",
   "metadata": {},
   "source": [
    "#### Cleaned data"
   ]
  },
  {
   "cell_type": "code",
   "execution_count": 91,
   "id": "serious-nickname",
   "metadata": {},
   "outputs": [],
   "source": [
    "data = raw[['state','city','area','house_type','sqft','bedrooms','bathrooms',\n",
    "           'furnishing','constr_info','floor_no','facing','price']]"
   ]
  },
  {
   "cell_type": "code",
   "execution_count": 92,
   "id": "medical-namibia",
   "metadata": {},
   "outputs": [
    {
     "data": {
      "text/html": [
       "<div>\n",
       "<style scoped>\n",
       "    .dataframe tbody tr th:only-of-type {\n",
       "        vertical-align: middle;\n",
       "    }\n",
       "\n",
       "    .dataframe tbody tr th {\n",
       "        vertical-align: top;\n",
       "    }\n",
       "\n",
       "    .dataframe thead th {\n",
       "        text-align: right;\n",
       "    }\n",
       "</style>\n",
       "<table border=\"1\" class=\"dataframe\">\n",
       "  <thead>\n",
       "    <tr style=\"text-align: right;\">\n",
       "      <th></th>\n",
       "      <th>state</th>\n",
       "      <th>city</th>\n",
       "      <th>area</th>\n",
       "      <th>house_type</th>\n",
       "      <th>sqft</th>\n",
       "      <th>bedrooms</th>\n",
       "      <th>bathrooms</th>\n",
       "      <th>furnishing</th>\n",
       "      <th>constr_info</th>\n",
       "      <th>floor_no</th>\n",
       "      <th>facing</th>\n",
       "      <th>price</th>\n",
       "    </tr>\n",
       "  </thead>\n",
       "  <tbody>\n",
       "    <tr>\n",
       "      <th>0</th>\n",
       "      <td>Punjab</td>\n",
       "      <td>Mohali</td>\n",
       "      <td>Sector 88</td>\n",
       "      <td>apartments</td>\n",
       "      <td>1481.0</td>\n",
       "      <td>3.0</td>\n",
       "      <td>3.0</td>\n",
       "      <td>semifurnished</td>\n",
       "      <td>newlaunch</td>\n",
       "      <td>4.0</td>\n",
       "      <td>NorthEast</td>\n",
       "      <td>8530.0</td>\n",
       "    </tr>\n",
       "    <tr>\n",
       "      <th>1</th>\n",
       "      <td>Karnataka</td>\n",
       "      <td>Mysuru</td>\n",
       "      <td>JP Nagar</td>\n",
       "      <td>housesvillas</td>\n",
       "      <td>1650.0</td>\n",
       "      <td>3.0</td>\n",
       "      <td>3.0</td>\n",
       "      <td>furnished</td>\n",
       "      <td>readytomove</td>\n",
       "      <td>NaN</td>\n",
       "      <td>SouthEast</td>\n",
       "      <td>10500.0</td>\n",
       "    </tr>\n",
       "    <tr>\n",
       "      <th>2</th>\n",
       "      <td>Gujarat</td>\n",
       "      <td>Surat</td>\n",
       "      <td>Pal Village</td>\n",
       "      <td>apartments</td>\n",
       "      <td>3051.0</td>\n",
       "      <td>4.0</td>\n",
       "      <td>4.0</td>\n",
       "      <td>semifurnished</td>\n",
       "      <td>readytomove</td>\n",
       "      <td>2.0</td>\n",
       "      <td>East</td>\n",
       "      <td>17000.0</td>\n",
       "    </tr>\n",
       "    <tr>\n",
       "      <th>3</th>\n",
       "      <td>Kerala</td>\n",
       "      <td>Kochi</td>\n",
       "      <td>Thevara</td>\n",
       "      <td>housesvillas</td>\n",
       "      <td>3000.0</td>\n",
       "      <td>4.0</td>\n",
       "      <td>NaN</td>\n",
       "      <td>NaN</td>\n",
       "      <td>NaN</td>\n",
       "      <td>NaN</td>\n",
       "      <td>NaN</td>\n",
       "      <td>15000.0</td>\n",
       "    </tr>\n",
       "    <tr>\n",
       "      <th>4</th>\n",
       "      <td>Rajasthan</td>\n",
       "      <td>Jaipur</td>\n",
       "      <td>Mayur Vihar</td>\n",
       "      <td>apartments</td>\n",
       "      <td>450.0</td>\n",
       "      <td>1.0</td>\n",
       "      <td>1.0</td>\n",
       "      <td>semifurnished</td>\n",
       "      <td>readytomove</td>\n",
       "      <td>1.0</td>\n",
       "      <td>East</td>\n",
       "      <td>1050.0</td>\n",
       "    </tr>\n",
       "  </tbody>\n",
       "</table>\n",
       "</div>"
      ],
      "text/plain": [
       "        state     city         area    house_type    sqft  bedrooms  \\\n",
       "0      Punjab   Mohali    Sector 88    apartments  1481.0       3.0   \n",
       "1   Karnataka   Mysuru     JP Nagar  housesvillas  1650.0       3.0   \n",
       "2     Gujarat    Surat  Pal Village    apartments  3051.0       4.0   \n",
       "3      Kerala    Kochi      Thevara  housesvillas  3000.0       4.0   \n",
       "4   Rajasthan   Jaipur  Mayur Vihar    apartments   450.0       1.0   \n",
       "\n",
       "   bathrooms     furnishing  constr_info  floor_no     facing    price  \n",
       "0        3.0  semifurnished    newlaunch       4.0  NorthEast   8530.0  \n",
       "1        3.0      furnished  readytomove       NaN  SouthEast  10500.0  \n",
       "2        4.0  semifurnished  readytomove       2.0       East  17000.0  \n",
       "3        NaN            NaN          NaN       NaN        NaN  15000.0  \n",
       "4        1.0  semifurnished  readytomove       1.0       East   1050.0  "
      ]
     },
     "execution_count": 92,
     "metadata": {},
     "output_type": "execute_result"
    }
   ],
   "source": [
    "data.head()"
   ]
  },
  {
   "cell_type": "markdown",
   "id": "terminal-pointer",
   "metadata": {},
   "source": [
    "#### Missing Values"
   ]
  },
  {
   "cell_type": "code",
   "execution_count": 106,
   "id": "broke-index",
   "metadata": {},
   "outputs": [
    {
     "data": {
      "text/plain": [
       "state           77\n",
       "city            77\n",
       "house_type      78\n",
       "sqft            78\n",
       "bedrooms        84\n",
       "bathrooms       85\n",
       "furnishing      85\n",
       "constr_info     84\n",
       "floor_no       217\n",
       "facing         171\n",
       "price           77\n",
       "dtype: int64"
      ]
     },
     "execution_count": 106,
     "metadata": {},
     "output_type": "execute_result"
    }
   ],
   "source": [
    "data.isnull().sum()"
   ]
  },
  {
   "cell_type": "code",
   "execution_count": 107,
   "id": "impossible-notion",
   "metadata": {},
   "outputs": [
    {
     "data": {
      "text/plain": [
       "state           object\n",
       "city            object\n",
       "house_type      object\n",
       "sqft           float64\n",
       "bedrooms       float64\n",
       "bathrooms      float64\n",
       "furnishing      object\n",
       "constr_info     object\n",
       "floor_no       float64\n",
       "facing          object\n",
       "price          float64\n",
       "dtype: object"
      ]
     },
     "execution_count": 107,
     "metadata": {},
     "output_type": "execute_result"
    }
   ],
   "source": [
    "data.dtypes"
   ]
  },
  {
   "cell_type": "code",
   "execution_count": 108,
   "id": "social-fishing",
   "metadata": {},
   "outputs": [],
   "source": [
    "# Replacing Missing values with one single loop for both numerical and categorical\n",
    "\n",
    "for i in data.columns:\n",
    "    if data[i].dtype == 'object':\n",
    "        modevalue = data[i].mode()[0]\n",
    "        data[i].fillna(modevalue, inplace = True)\n",
    "    elif data[i].dtype == 'int32' or 'int64' or 'float64':\n",
    "        data[i].fillna(data[i].median(), inplace = True)"
   ]
  },
  {
   "cell_type": "code",
   "execution_count": null,
   "id": "static-hobby",
   "metadata": {},
   "outputs": [],
   "source": []
  },
  {
   "cell_type": "code",
   "execution_count": null,
   "id": "accompanied-minute",
   "metadata": {},
   "outputs": [],
   "source": []
  },
  {
   "cell_type": "code",
   "execution_count": 109,
   "id": "hairy-killer",
   "metadata": {},
   "outputs": [],
   "source": [
    "data.to_csv(\"cleaned_nafill.csv\", index=False)"
   ]
  },
  {
   "cell_type": "markdown",
   "id": "revolutionary-vanilla",
   "metadata": {},
   "source": [
    "#### EDA"
   ]
  },
  {
   "cell_type": "code",
   "execution_count": 40,
   "id": "productive-astrology",
   "metadata": {},
   "outputs": [
    {
     "data": {
      "text/html": [
       "<div>\n",
       "<style scoped>\n",
       "    .dataframe tbody tr th:only-of-type {\n",
       "        vertical-align: middle;\n",
       "    }\n",
       "\n",
       "    .dataframe tbody tr th {\n",
       "        vertical-align: top;\n",
       "    }\n",
       "\n",
       "    .dataframe thead th {\n",
       "        text-align: right;\n",
       "    }\n",
       "</style>\n",
       "<table border=\"1\" class=\"dataframe\">\n",
       "  <thead>\n",
       "    <tr style=\"text-align: right;\">\n",
       "      <th></th>\n",
       "      <th>state</th>\n",
       "      <th>city</th>\n",
       "      <th>house_type</th>\n",
       "      <th>sqft</th>\n",
       "      <th>bedrooms</th>\n",
       "      <th>bathrooms</th>\n",
       "      <th>furnishing</th>\n",
       "      <th>constr_info</th>\n",
       "      <th>floor_no</th>\n",
       "      <th>facing</th>\n",
       "      <th>price</th>\n",
       "    </tr>\n",
       "  </thead>\n",
       "  <tbody>\n",
       "    <tr>\n",
       "      <th>0</th>\n",
       "      <td>Punjab</td>\n",
       "      <td>Mohali</td>\n",
       "      <td>apartments</td>\n",
       "      <td>1481.0</td>\n",
       "      <td>3.0</td>\n",
       "      <td>3.0</td>\n",
       "      <td>semifurnished</td>\n",
       "      <td>newlaunch</td>\n",
       "      <td>4.0</td>\n",
       "      <td>northeast</td>\n",
       "      <td>8530.0</td>\n",
       "    </tr>\n",
       "    <tr>\n",
       "      <th>1</th>\n",
       "      <td>Karnataka</td>\n",
       "      <td>Mysuru</td>\n",
       "      <td>housesvillas</td>\n",
       "      <td>1650.0</td>\n",
       "      <td>3.0</td>\n",
       "      <td>3.0</td>\n",
       "      <td>furnished</td>\n",
       "      <td>readytomove</td>\n",
       "      <td>1.0</td>\n",
       "      <td>southeast</td>\n",
       "      <td>10500.0</td>\n",
       "    </tr>\n",
       "    <tr>\n",
       "      <th>2</th>\n",
       "      <td>Gujarat</td>\n",
       "      <td>Surat</td>\n",
       "      <td>apartments</td>\n",
       "      <td>3051.0</td>\n",
       "      <td>4.0</td>\n",
       "      <td>4.0</td>\n",
       "      <td>semifurnished</td>\n",
       "      <td>readytomove</td>\n",
       "      <td>2.0</td>\n",
       "      <td>east</td>\n",
       "      <td>17000.0</td>\n",
       "    </tr>\n",
       "    <tr>\n",
       "      <th>3</th>\n",
       "      <td>Kerala</td>\n",
       "      <td>Kochi</td>\n",
       "      <td>housesvillas</td>\n",
       "      <td>3000.0</td>\n",
       "      <td>4.0</td>\n",
       "      <td>2.0</td>\n",
       "      <td>semifurnished</td>\n",
       "      <td>readytomove</td>\n",
       "      <td>1.0</td>\n",
       "      <td>east</td>\n",
       "      <td>15000.0</td>\n",
       "    </tr>\n",
       "    <tr>\n",
       "      <th>4</th>\n",
       "      <td>Rajasthan</td>\n",
       "      <td>Jaipur</td>\n",
       "      <td>apartments</td>\n",
       "      <td>450.0</td>\n",
       "      <td>1.0</td>\n",
       "      <td>1.0</td>\n",
       "      <td>semifurnished</td>\n",
       "      <td>readytomove</td>\n",
       "      <td>1.0</td>\n",
       "      <td>east</td>\n",
       "      <td>1050.0</td>\n",
       "    </tr>\n",
       "  </tbody>\n",
       "</table>\n",
       "</div>"
      ],
      "text/plain": [
       "        state     city    house_type    sqft  bedrooms  bathrooms  \\\n",
       "0      Punjab   Mohali    apartments  1481.0       3.0        3.0   \n",
       "1   Karnataka   Mysuru  housesvillas  1650.0       3.0        3.0   \n",
       "2     Gujarat    Surat    apartments  3051.0       4.0        4.0   \n",
       "3      Kerala    Kochi  housesvillas  3000.0       4.0        2.0   \n",
       "4   Rajasthan   Jaipur    apartments   450.0       1.0        1.0   \n",
       "\n",
       "      furnishing  constr_info  floor_no     facing    price  \n",
       "0  semifurnished    newlaunch       4.0  northeast   8530.0  \n",
       "1      furnished  readytomove       1.0  southeast  10500.0  \n",
       "2  semifurnished  readytomove       2.0       east  17000.0  \n",
       "3  semifurnished  readytomove       1.0       east  15000.0  \n",
       "4  semifurnished  readytomove       1.0       east   1050.0  "
      ]
     },
     "execution_count": 40,
     "metadata": {},
     "output_type": "execute_result"
    }
   ],
   "source": [
    "data.head()"
   ]
  },
  {
   "cell_type": "code",
   "execution_count": 41,
   "id": "suited-construction",
   "metadata": {},
   "outputs": [
    {
     "name": "stdout",
     "output_type": "stream",
     "text": [
      "<class 'pandas.core.frame.DataFrame'>\n",
      "RangeIndex: 452 entries, 0 to 451\n",
      "Data columns (total 11 columns):\n",
      " #   Column       Non-Null Count  Dtype  \n",
      "---  ------       --------------  -----  \n",
      " 0   state        452 non-null    object \n",
      " 1   city         452 non-null    object \n",
      " 2   house_type   452 non-null    object \n",
      " 3   sqft         452 non-null    float64\n",
      " 4   bedrooms     452 non-null    float64\n",
      " 5   bathrooms    452 non-null    float64\n",
      " 6   furnishing   452 non-null    object \n",
      " 7   constr_info  452 non-null    object \n",
      " 8   floor_no     452 non-null    float64\n",
      " 9   facing       452 non-null    object \n",
      " 10  price        452 non-null    float64\n",
      "dtypes: float64(5), object(6)\n",
      "memory usage: 39.0+ KB\n"
     ]
    }
   ],
   "source": [
    "data.info()"
   ]
  },
  {
   "cell_type": "code",
   "execution_count": 42,
   "id": "continental-johnston",
   "metadata": {},
   "outputs": [
    {
     "data": {
      "text/html": [
       "<div>\n",
       "<style scoped>\n",
       "    .dataframe tbody tr th:only-of-type {\n",
       "        vertical-align: middle;\n",
       "    }\n",
       "\n",
       "    .dataframe tbody tr th {\n",
       "        vertical-align: top;\n",
       "    }\n",
       "\n",
       "    .dataframe thead th {\n",
       "        text-align: right;\n",
       "    }\n",
       "</style>\n",
       "<table border=\"1\" class=\"dataframe\">\n",
       "  <thead>\n",
       "    <tr style=\"text-align: right;\">\n",
       "      <th></th>\n",
       "      <th>state</th>\n",
       "      <th>city</th>\n",
       "      <th>house_type</th>\n",
       "      <th>sqft</th>\n",
       "      <th>bedrooms</th>\n",
       "      <th>bathrooms</th>\n",
       "      <th>furnishing</th>\n",
       "      <th>constr_info</th>\n",
       "      <th>floor_no</th>\n",
       "      <th>facing</th>\n",
       "      <th>price</th>\n",
       "    </tr>\n",
       "  </thead>\n",
       "  <tbody>\n",
       "    <tr>\n",
       "      <th>count</th>\n",
       "      <td>452</td>\n",
       "      <td>452</td>\n",
       "      <td>452</td>\n",
       "      <td>452.000000</td>\n",
       "      <td>452.000000</td>\n",
       "      <td>452.000000</td>\n",
       "      <td>452</td>\n",
       "      <td>452</td>\n",
       "      <td>452.000000</td>\n",
       "      <td>452</td>\n",
       "      <td>452.000000</td>\n",
       "    </tr>\n",
       "    <tr>\n",
       "      <th>unique</th>\n",
       "      <td>21</td>\n",
       "      <td>90</td>\n",
       "      <td>4</td>\n",
       "      <td>NaN</td>\n",
       "      <td>NaN</td>\n",
       "      <td>NaN</td>\n",
       "      <td>3</td>\n",
       "      <td>3</td>\n",
       "      <td>NaN</td>\n",
       "      <td>8</td>\n",
       "      <td>NaN</td>\n",
       "    </tr>\n",
       "    <tr>\n",
       "      <th>top</th>\n",
       "      <td>Kerala</td>\n",
       "      <td>Kochi</td>\n",
       "      <td>housesvillas</td>\n",
       "      <td>NaN</td>\n",
       "      <td>NaN</td>\n",
       "      <td>NaN</td>\n",
       "      <td>semifurnished</td>\n",
       "      <td>readytomove</td>\n",
       "      <td>NaN</td>\n",
       "      <td>east</td>\n",
       "      <td>NaN</td>\n",
       "    </tr>\n",
       "    <tr>\n",
       "      <th>freq</th>\n",
       "      <td>193</td>\n",
       "      <td>119</td>\n",
       "      <td>272</td>\n",
       "      <td>NaN</td>\n",
       "      <td>NaN</td>\n",
       "      <td>NaN</td>\n",
       "      <td>269</td>\n",
       "      <td>370</td>\n",
       "      <td>NaN</td>\n",
       "      <td>313</td>\n",
       "      <td>NaN</td>\n",
       "    </tr>\n",
       "    <tr>\n",
       "      <th>mean</th>\n",
       "      <td>NaN</td>\n",
       "      <td>NaN</td>\n",
       "      <td>NaN</td>\n",
       "      <td>1366.070796</td>\n",
       "      <td>2.783186</td>\n",
       "      <td>2.460177</td>\n",
       "      <td>NaN</td>\n",
       "      <td>NaN</td>\n",
       "      <td>1.716814</td>\n",
       "      <td>NaN</td>\n",
       "      <td>6600.778369</td>\n",
       "    </tr>\n",
       "    <tr>\n",
       "      <th>std</th>\n",
       "      <td>NaN</td>\n",
       "      <td>NaN</td>\n",
       "      <td>NaN</td>\n",
       "      <td>1090.551497</td>\n",
       "      <td>0.911557</td>\n",
       "      <td>0.951464</td>\n",
       "      <td>NaN</td>\n",
       "      <td>NaN</td>\n",
       "      <td>2.141218</td>\n",
       "      <td>NaN</td>\n",
       "      <td>13212.919546</td>\n",
       "    </tr>\n",
       "    <tr>\n",
       "      <th>min</th>\n",
       "      <td>NaN</td>\n",
       "      <td>NaN</td>\n",
       "      <td>NaN</td>\n",
       "      <td>0.000000</td>\n",
       "      <td>1.000000</td>\n",
       "      <td>1.000000</td>\n",
       "      <td>NaN</td>\n",
       "      <td>NaN</td>\n",
       "      <td>0.000000</td>\n",
       "      <td>NaN</td>\n",
       "      <td>10.000000</td>\n",
       "    </tr>\n",
       "    <tr>\n",
       "      <th>25%</th>\n",
       "      <td>NaN</td>\n",
       "      <td>NaN</td>\n",
       "      <td>NaN</td>\n",
       "      <td>982.250000</td>\n",
       "      <td>2.000000</td>\n",
       "      <td>2.000000</td>\n",
       "      <td>NaN</td>\n",
       "      <td>NaN</td>\n",
       "      <td>1.000000</td>\n",
       "      <td>NaN</td>\n",
       "      <td>3200.000000</td>\n",
       "    </tr>\n",
       "    <tr>\n",
       "      <th>50%</th>\n",
       "      <td>NaN</td>\n",
       "      <td>NaN</td>\n",
       "      <td>NaN</td>\n",
       "      <td>1200.000000</td>\n",
       "      <td>3.000000</td>\n",
       "      <td>2.000000</td>\n",
       "      <td>NaN</td>\n",
       "      <td>NaN</td>\n",
       "      <td>1.000000</td>\n",
       "      <td>NaN</td>\n",
       "      <td>4600.000000</td>\n",
       "    </tr>\n",
       "    <tr>\n",
       "      <th>75%</th>\n",
       "      <td>NaN</td>\n",
       "      <td>NaN</td>\n",
       "      <td>NaN</td>\n",
       "      <td>1552.500000</td>\n",
       "      <td>3.000000</td>\n",
       "      <td>3.000000</td>\n",
       "      <td>NaN</td>\n",
       "      <td>NaN</td>\n",
       "      <td>1.000000</td>\n",
       "      <td>NaN</td>\n",
       "      <td>6230.527500</td>\n",
       "    </tr>\n",
       "    <tr>\n",
       "      <th>max</th>\n",
       "      <td>NaN</td>\n",
       "      <td>NaN</td>\n",
       "      <td>NaN</td>\n",
       "      <td>18528.000000</td>\n",
       "      <td>5.000000</td>\n",
       "      <td>5.000000</td>\n",
       "      <td>NaN</td>\n",
       "      <td>NaN</td>\n",
       "      <td>20.000000</td>\n",
       "      <td>NaN</td>\n",
       "      <td>240000.000000</td>\n",
       "    </tr>\n",
       "  </tbody>\n",
       "</table>\n",
       "</div>"
      ],
      "text/plain": [
       "          state    city    house_type          sqft    bedrooms   bathrooms  \\\n",
       "count       452     452           452    452.000000  452.000000  452.000000   \n",
       "unique       21      90             4           NaN         NaN         NaN   \n",
       "top      Kerala   Kochi  housesvillas           NaN         NaN         NaN   \n",
       "freq        193     119           272           NaN         NaN         NaN   \n",
       "mean        NaN     NaN           NaN   1366.070796    2.783186    2.460177   \n",
       "std         NaN     NaN           NaN   1090.551497    0.911557    0.951464   \n",
       "min         NaN     NaN           NaN      0.000000    1.000000    1.000000   \n",
       "25%         NaN     NaN           NaN    982.250000    2.000000    2.000000   \n",
       "50%         NaN     NaN           NaN   1200.000000    3.000000    2.000000   \n",
       "75%         NaN     NaN           NaN   1552.500000    3.000000    3.000000   \n",
       "max         NaN     NaN           NaN  18528.000000    5.000000    5.000000   \n",
       "\n",
       "           furnishing  constr_info    floor_no facing          price  \n",
       "count             452          452  452.000000    452     452.000000  \n",
       "unique              3            3         NaN      8            NaN  \n",
       "top     semifurnished  readytomove         NaN   east            NaN  \n",
       "freq              269          370         NaN    313            NaN  \n",
       "mean              NaN          NaN    1.716814    NaN    6600.778369  \n",
       "std               NaN          NaN    2.141218    NaN   13212.919546  \n",
       "min               NaN          NaN    0.000000    NaN      10.000000  \n",
       "25%               NaN          NaN    1.000000    NaN    3200.000000  \n",
       "50%               NaN          NaN    1.000000    NaN    4600.000000  \n",
       "75%               NaN          NaN    1.000000    NaN    6230.527500  \n",
       "max               NaN          NaN   20.000000    NaN  240000.000000  "
      ]
     },
     "execution_count": 42,
     "metadata": {},
     "output_type": "execute_result"
    }
   ],
   "source": [
    "data.describe(include = 'all')"
   ]
  },
  {
   "cell_type": "markdown",
   "id": "aggressive-howard",
   "metadata": {},
   "source": [
    "#### Summary of EDA in a single function with library"
   ]
  },
  {
   "cell_type": "code",
   "execution_count": 43,
   "id": "persistent-taxation",
   "metadata": {},
   "outputs": [],
   "source": [
    "#import pandas_profiling"
   ]
  },
  {
   "cell_type": "code",
   "execution_count": 44,
   "id": "funky-alignment",
   "metadata": {},
   "outputs": [],
   "source": [
    "#data.profile_report()"
   ]
  },
  {
   "cell_type": "code",
   "execution_count": null,
   "id": "clinical-career",
   "metadata": {},
   "outputs": [],
   "source": []
  },
  {
   "cell_type": "markdown",
   "id": "micro-witness",
   "metadata": {},
   "source": [
    "#### Visualizations"
   ]
  },
  {
   "cell_type": "code",
   "execution_count": 45,
   "id": "chemical-apparatus",
   "metadata": {},
   "outputs": [],
   "source": [
    "import matplotlib.pyplot as plt\n",
    "import seaborn as sns\n",
    "\n",
    "%matplotlib inline"
   ]
  },
  {
   "cell_type": "code",
   "execution_count": 46,
   "id": "certain-expansion",
   "metadata": {},
   "outputs": [
    {
     "data": {
      "text/plain": [
       "<AxesSubplot:xlabel='sqft', ylabel='price'>"
      ]
     },
     "execution_count": 46,
     "metadata": {},
     "output_type": "execute_result"
    },
    {
     "data": {
      "image/png": "[encoded data removed]",
      "text/plain": [
       "<Figure size 432x288 with 1 Axes>"
      ]
     },
     "metadata": {
      "needs_background": "light"
     },
     "output_type": "display_data"
    }
   ],
   "source": [
    "sns.scatterplot(x = 'sqft', y = 'price', data = data)"
   ]
  },
  {
   "cell_type": "code",
   "execution_count": 47,
   "id": "comparable-workplace",
   "metadata": {},
   "outputs": [
    {
     "data": {
      "text/html": [
       "<div>\n",
       "<style scoped>\n",
       "    .dataframe tbody tr th:only-of-type {\n",
       "        vertical-align: middle;\n",
       "    }\n",
       "\n",
       "    .dataframe tbody tr th {\n",
       "        vertical-align: top;\n",
       "    }\n",
       "\n",
       "    .dataframe thead th {\n",
       "        text-align: right;\n",
       "    }\n",
       "</style>\n",
       "<table border=\"1\" class=\"dataframe\">\n",
       "  <thead>\n",
       "    <tr style=\"text-align: right;\">\n",
       "      <th></th>\n",
       "      <th>sqft</th>\n",
       "      <th>bedrooms</th>\n",
       "      <th>bathrooms</th>\n",
       "      <th>floor_no</th>\n",
       "      <th>price</th>\n",
       "    </tr>\n",
       "  </thead>\n",
       "  <tbody>\n",
       "    <tr>\n",
       "      <th>count</th>\n",
       "      <td>452.000</td>\n",
       "      <td>452.000</td>\n",
       "      <td>452.000</td>\n",
       "      <td>452.000</td>\n",
       "      <td>452.000</td>\n",
       "    </tr>\n",
       "    <tr>\n",
       "      <th>mean</th>\n",
       "      <td>1366.071</td>\n",
       "      <td>2.783</td>\n",
       "      <td>2.460</td>\n",
       "      <td>1.717</td>\n",
       "      <td>6600.778</td>\n",
       "    </tr>\n",
       "    <tr>\n",
       "      <th>std</th>\n",
       "      <td>1090.551</td>\n",
       "      <td>0.912</td>\n",
       "      <td>0.951</td>\n",
       "      <td>2.141</td>\n",
       "      <td>13212.920</td>\n",
       "    </tr>\n",
       "    <tr>\n",
       "      <th>min</th>\n",
       "      <td>0.000</td>\n",
       "      <td>1.000</td>\n",
       "      <td>1.000</td>\n",
       "      <td>0.000</td>\n",
       "      <td>10.000</td>\n",
       "    </tr>\n",
       "    <tr>\n",
       "      <th>25%</th>\n",
       "      <td>982.250</td>\n",
       "      <td>2.000</td>\n",
       "      <td>2.000</td>\n",
       "      <td>1.000</td>\n",
       "      <td>3200.000</td>\n",
       "    </tr>\n",
       "    <tr>\n",
       "      <th>50%</th>\n",
       "      <td>1200.000</td>\n",
       "      <td>3.000</td>\n",
       "      <td>2.000</td>\n",
       "      <td>1.000</td>\n",
       "      <td>4600.000</td>\n",
       "    </tr>\n",
       "    <tr>\n",
       "      <th>75%</th>\n",
       "      <td>1552.500</td>\n",
       "      <td>3.000</td>\n",
       "      <td>3.000</td>\n",
       "      <td>1.000</td>\n",
       "      <td>6230.528</td>\n",
       "    </tr>\n",
       "    <tr>\n",
       "      <th>max</th>\n",
       "      <td>18528.000</td>\n",
       "      <td>5.000</td>\n",
       "      <td>5.000</td>\n",
       "      <td>20.000</td>\n",
       "      <td>240000.000</td>\n",
       "    </tr>\n",
       "  </tbody>\n",
       "</table>\n",
       "</div>"
      ],
      "text/plain": [
       "            sqft  bedrooms  bathrooms  floor_no       price\n",
       "count    452.000   452.000    452.000   452.000     452.000\n",
       "mean    1366.071     2.783      2.460     1.717    6600.778\n",
       "std     1090.551     0.912      0.951     2.141   13212.920\n",
       "min        0.000     1.000      1.000     0.000      10.000\n",
       "25%      982.250     2.000      2.000     1.000    3200.000\n",
       "50%     1200.000     3.000      2.000     1.000    4600.000\n",
       "75%     1552.500     3.000      3.000     1.000    6230.528\n",
       "max    18528.000     5.000      5.000    20.000  240000.000"
      ]
     },
     "execution_count": 47,
     "metadata": {},
     "output_type": "execute_result"
    }
   ],
   "source": [
    "round(data.describe(),3)"
   ]
  },
  {
   "cell_type": "code",
   "execution_count": 48,
   "id": "honest-movie",
   "metadata": {},
   "outputs": [
    {
     "data": {
      "text/html": [
       "<div>\n",
       "<style scoped>\n",
       "    .dataframe tbody tr th:only-of-type {\n",
       "        vertical-align: middle;\n",
       "    }\n",
       "\n",
       "    .dataframe tbody tr th {\n",
       "        vertical-align: top;\n",
       "    }\n",
       "\n",
       "    .dataframe thead th {\n",
       "        text-align: right;\n",
       "    }\n",
       "</style>\n",
       "<table border=\"1\" class=\"dataframe\">\n",
       "  <thead>\n",
       "    <tr style=\"text-align: right;\">\n",
       "      <th></th>\n",
       "      <th>state</th>\n",
       "      <th>city</th>\n",
       "      <th>house_type</th>\n",
       "      <th>sqft</th>\n",
       "      <th>bedrooms</th>\n",
       "      <th>bathrooms</th>\n",
       "      <th>furnishing</th>\n",
       "      <th>constr_info</th>\n",
       "      <th>floor_no</th>\n",
       "      <th>facing</th>\n",
       "      <th>price</th>\n",
       "    </tr>\n",
       "  </thead>\n",
       "  <tbody>\n",
       "    <tr>\n",
       "      <th>0</th>\n",
       "      <td>Punjab</td>\n",
       "      <td>Mohali</td>\n",
       "      <td>apartments</td>\n",
       "      <td>1481.0</td>\n",
       "      <td>3.0</td>\n",
       "      <td>3.0</td>\n",
       "      <td>semifurnished</td>\n",
       "      <td>newlaunch</td>\n",
       "      <td>4.0</td>\n",
       "      <td>northeast</td>\n",
       "      <td>8530.0</td>\n",
       "    </tr>\n",
       "    <tr>\n",
       "      <th>1</th>\n",
       "      <td>Karnataka</td>\n",
       "      <td>Mysuru</td>\n",
       "      <td>housesvillas</td>\n",
       "      <td>1650.0</td>\n",
       "      <td>3.0</td>\n",
       "      <td>3.0</td>\n",
       "      <td>furnished</td>\n",
       "      <td>readytomove</td>\n",
       "      <td>1.0</td>\n",
       "      <td>southeast</td>\n",
       "      <td>10500.0</td>\n",
       "    </tr>\n",
       "    <tr>\n",
       "      <th>2</th>\n",
       "      <td>Gujarat</td>\n",
       "      <td>Surat</td>\n",
       "      <td>apartments</td>\n",
       "      <td>3051.0</td>\n",
       "      <td>4.0</td>\n",
       "      <td>4.0</td>\n",
       "      <td>semifurnished</td>\n",
       "      <td>readytomove</td>\n",
       "      <td>2.0</td>\n",
       "      <td>east</td>\n",
       "      <td>17000.0</td>\n",
       "    </tr>\n",
       "    <tr>\n",
       "      <th>3</th>\n",
       "      <td>Kerala</td>\n",
       "      <td>Kochi</td>\n",
       "      <td>housesvillas</td>\n",
       "      <td>3000.0</td>\n",
       "      <td>4.0</td>\n",
       "      <td>2.0</td>\n",
       "      <td>semifurnished</td>\n",
       "      <td>readytomove</td>\n",
       "      <td>1.0</td>\n",
       "      <td>east</td>\n",
       "      <td>15000.0</td>\n",
       "    </tr>\n",
       "    <tr>\n",
       "      <th>4</th>\n",
       "      <td>Rajasthan</td>\n",
       "      <td>Jaipur</td>\n",
       "      <td>apartments</td>\n",
       "      <td>450.0</td>\n",
       "      <td>1.0</td>\n",
       "      <td>1.0</td>\n",
       "      <td>semifurnished</td>\n",
       "      <td>readytomove</td>\n",
       "      <td>1.0</td>\n",
       "      <td>east</td>\n",
       "      <td>1050.0</td>\n",
       "    </tr>\n",
       "    <tr>\n",
       "      <th>...</th>\n",
       "      <td>...</td>\n",
       "      <td>...</td>\n",
       "      <td>...</td>\n",
       "      <td>...</td>\n",
       "      <td>...</td>\n",
       "      <td>...</td>\n",
       "      <td>...</td>\n",
       "      <td>...</td>\n",
       "      <td>...</td>\n",
       "      <td>...</td>\n",
       "      <td>...</td>\n",
       "    </tr>\n",
       "    <tr>\n",
       "      <th>447</th>\n",
       "      <td>Kerala</td>\n",
       "      <td>Thiruvananthapuram</td>\n",
       "      <td>housesvillas</td>\n",
       "      <td>1900.0</td>\n",
       "      <td>3.0</td>\n",
       "      <td>3.0</td>\n",
       "      <td>semifurnished</td>\n",
       "      <td>readytomove</td>\n",
       "      <td>1.0</td>\n",
       "      <td>east</td>\n",
       "      <td>5500.0</td>\n",
       "    </tr>\n",
       "    <tr>\n",
       "      <th>448</th>\n",
       "      <td>West Bengal</td>\n",
       "      <td>Siliguri</td>\n",
       "      <td>apartments</td>\n",
       "      <td>1686.0</td>\n",
       "      <td>3.0</td>\n",
       "      <td>3.0</td>\n",
       "      <td>semifurnished</td>\n",
       "      <td>readytomove</td>\n",
       "      <td>1.0</td>\n",
       "      <td>east</td>\n",
       "      <td>8400.0</td>\n",
       "    </tr>\n",
       "    <tr>\n",
       "      <th>449</th>\n",
       "      <td>West Bengal</td>\n",
       "      <td>Siliguri</td>\n",
       "      <td>apartments</td>\n",
       "      <td>1384.0</td>\n",
       "      <td>3.0</td>\n",
       "      <td>2.0</td>\n",
       "      <td>unfurnished</td>\n",
       "      <td>readytomove</td>\n",
       "      <td>3.0</td>\n",
       "      <td>east</td>\n",
       "      <td>5400.0</td>\n",
       "    </tr>\n",
       "    <tr>\n",
       "      <th>450</th>\n",
       "      <td>Karnataka</td>\n",
       "      <td>Udupi</td>\n",
       "      <td>apartments</td>\n",
       "      <td>1785.0</td>\n",
       "      <td>3.0</td>\n",
       "      <td>3.0</td>\n",
       "      <td>semifurnished</td>\n",
       "      <td>readytomove</td>\n",
       "      <td>1.0</td>\n",
       "      <td>north</td>\n",
       "      <td>6200.0</td>\n",
       "    </tr>\n",
       "    <tr>\n",
       "      <th>451</th>\n",
       "      <td>Jharkhand</td>\n",
       "      <td>Ranchi</td>\n",
       "      <td>builderfloors</td>\n",
       "      <td>1350.0</td>\n",
       "      <td>2.0</td>\n",
       "      <td>2.0</td>\n",
       "      <td>semifurnished</td>\n",
       "      <td>underconstruction</td>\n",
       "      <td>4.0</td>\n",
       "      <td>east</td>\n",
       "      <td>4600.0</td>\n",
       "    </tr>\n",
       "  </tbody>\n",
       "</table>\n",
       "<p>452 rows × 11 columns</p>\n",
       "</div>"
      ],
      "text/plain": [
       "            state                 city     house_type    sqft  bedrooms  \\\n",
       "0          Punjab               Mohali     apartments  1481.0       3.0   \n",
       "1       Karnataka               Mysuru   housesvillas  1650.0       3.0   \n",
       "2         Gujarat                Surat     apartments  3051.0       4.0   \n",
       "3          Kerala                Kochi   housesvillas  3000.0       4.0   \n",
       "4       Rajasthan               Jaipur     apartments   450.0       1.0   \n",
       "..            ...                  ...            ...     ...       ...   \n",
       "447        Kerala   Thiruvananthapuram   housesvillas  1900.0       3.0   \n",
       "448   West Bengal             Siliguri     apartments  1686.0       3.0   \n",
       "449   West Bengal             Siliguri     apartments  1384.0       3.0   \n",
       "450     Karnataka                Udupi     apartments  1785.0       3.0   \n",
       "451     Jharkhand               Ranchi  builderfloors  1350.0       2.0   \n",
       "\n",
       "     bathrooms     furnishing        constr_info  floor_no     facing    price  \n",
       "0          3.0  semifurnished          newlaunch       4.0  northeast   8530.0  \n",
       "1          3.0      furnished        readytomove       1.0  southeast  10500.0  \n",
       "2          4.0  semifurnished        readytomove       2.0       east  17000.0  \n",
       "3          2.0  semifurnished        readytomove       1.0       east  15000.0  \n",
       "4          1.0  semifurnished        readytomove       1.0       east   1050.0  \n",
       "..         ...            ...                ...       ...        ...      ...  \n",
       "447        3.0  semifurnished        readytomove       1.0       east   5500.0  \n",
       "448        3.0  semifurnished        readytomove       1.0       east   8400.0  \n",
       "449        2.0    unfurnished        readytomove       3.0       east   5400.0  \n",
       "450        3.0  semifurnished        readytomove       1.0      north   6200.0  \n",
       "451        2.0  semifurnished  underconstruction       4.0       east   4600.0  \n",
       "\n",
       "[452 rows x 11 columns]"
      ]
     },
     "execution_count": 48,
     "metadata": {},
     "output_type": "execute_result"
    }
   ],
   "source": [
    "data"
   ]
  },
  {
   "cell_type": "markdown",
   "id": "martial-radar",
   "metadata": {},
   "source": [
    "#### Modeling\n",
    "#### Data Pre-processing\n",
    "\n",
    "preparing columns data for the machine learning model\n",
    "\n",
    "* Converting categorical columns to numerical"
   ]
  },
  {
   "cell_type": "markdown",
   "id": "municipal-drive",
   "metadata": {},
   "source": [
    "#### Outlier treatment"
   ]
  },
  {
   "cell_type": "code",
   "execution_count": 49,
   "id": "motivated-powell",
   "metadata": {},
   "outputs": [
    {
     "name": "stdout",
     "output_type": "stream",
     "text": [
      "<class 'pandas.core.frame.DataFrame'>\n",
      "RangeIndex: 452 entries, 0 to 451\n",
      "Data columns (total 11 columns):\n",
      " #   Column       Non-Null Count  Dtype  \n",
      "---  ------       --------------  -----  \n",
      " 0   state        452 non-null    object \n",
      " 1   city         452 non-null    object \n",
      " 2   house_type   452 non-null    object \n",
      " 3   sqft         452 non-null    float64\n",
      " 4   bedrooms     452 non-null    float64\n",
      " 5   bathrooms    452 non-null    float64\n",
      " 6   furnishing   452 non-null    object \n",
      " 7   constr_info  452 non-null    object \n",
      " 8   floor_no     452 non-null    float64\n",
      " 9   facing       452 non-null    object \n",
      " 10  price        452 non-null    float64\n",
      "dtypes: float64(5), object(6)\n",
      "memory usage: 39.0+ KB\n"
     ]
    }
   ],
   "source": [
    "data.info()"
   ]
  },
  {
   "cell_type": "code",
   "execution_count": 50,
   "id": "opposed-circular",
   "metadata": {},
   "outputs": [
    {
     "data": {
      "text/plain": [
       "<AxesSubplot:xlabel='price'>"
      ]
     },
     "execution_count": 50,
     "metadata": {},
     "output_type": "execute_result"
    },
    {
     "data": {
      "image/png": "[encoded data removed]",
      "text/plain": [
       "<Figure size 432x288 with 1 Axes>"
      ]
     },
     "metadata": {
      "needs_background": "light"
     },
     "output_type": "display_data"
    }
   ],
   "source": [
    "sns.boxplot(data.price)"
   ]
  },
  {
   "cell_type": "code",
   "execution_count": 51,
   "id": "boring-avenue",
   "metadata": {},
   "outputs": [],
   "source": [
    "def outlier_detect(df):\n",
    "    for i in df.describe().columns:\n",
    "        Q1=df[i].quantile(0.25)\n",
    "        Q3=df[i].quantile(0.75)\n",
    "        low=df[i].quantile(0.05)\n",
    "        high=df[i].quantile(0.95)\n",
    "        IQR=Q3 - Q1\n",
    "        LTV=Q1 - 1.5 * IQR\n",
    "        UTV=Q3 + 1.5 * IQR\n",
    "        df[i] = df[i].mask(df[i]<LTV,low)\n",
    "        df[i] = df[i].mask(df[i]>UTV,high)\n",
    "    return df"
   ]
  },
  {
   "cell_type": "code",
   "execution_count": 52,
   "id": "powered-stability",
   "metadata": {},
   "outputs": [],
   "source": [
    "data = outlier_detect(data)"
   ]
  },
  {
   "cell_type": "code",
   "execution_count": 53,
   "id": "headed-sleeping",
   "metadata": {},
   "outputs": [
    {
     "data": {
      "text/plain": [
       "<AxesSubplot:xlabel='price'>"
      ]
     },
     "execution_count": 53,
     "metadata": {},
     "output_type": "execute_result"
    },
    {
     "data": {
      "image/png": "[encoded data removed]",
      "text/plain": [
       "<Figure size 432x288 with 1 Axes>"
      ]
     },
     "metadata": {
      "needs_background": "light"
     },
     "output_type": "display_data"
    }
   ],
   "source": [
    "sns.boxplot(data.price)"
   ]
  },
  {
   "cell_type": "markdown",
   "id": "broadband-liquid",
   "metadata": {},
   "source": [
    "#### One_Hot Encoding\n",
    "\n",
    "Converting categorical to numerical columns"
   ]
  },
  {
   "cell_type": "code",
   "execution_count": 54,
   "id": "heavy-junior",
   "metadata": {},
   "outputs": [],
   "source": [
    "from sklearn.preprocessing import OneHotEncoder\n",
    "ohe = OneHotEncoder(handle_unknown='ignore',sparse = False)"
   ]
  },
  {
   "cell_type": "code",
   "execution_count": 55,
   "id": "trained-standard",
   "metadata": {},
   "outputs": [],
   "source": [
    "cats = pd.DataFrame(ohe.fit_transform(data.iloc[:,[0,1,2,6,7,9]]))"
   ]
  },
  {
   "cell_type": "code",
   "execution_count": 56,
   "id": "loaded-failure",
   "metadata": {},
   "outputs": [],
   "source": [
    "cats.columns = ohe.get_feature_names_out()"
   ]
  },
  {
   "cell_type": "code",
   "execution_count": 57,
   "id": "above-strength",
   "metadata": {},
   "outputs": [
    {
     "data": {
      "text/html": [
       "<div>\n",
       "<style scoped>\n",
       "    .dataframe tbody tr th:only-of-type {\n",
       "        vertical-align: middle;\n",
       "    }\n",
       "\n",
       "    .dataframe tbody tr th {\n",
       "        vertical-align: top;\n",
       "    }\n",
       "\n",
       "    .dataframe thead th {\n",
       "        text-align: right;\n",
       "    }\n",
       "</style>\n",
       "<table border=\"1\" class=\"dataframe\">\n",
       "  <thead>\n",
       "    <tr style=\"text-align: right;\">\n",
       "      <th></th>\n",
       "      <th>sqft</th>\n",
       "      <th>bedrooms</th>\n",
       "      <th>bathrooms</th>\n",
       "      <th>floor_no</th>\n",
       "      <th>price</th>\n",
       "    </tr>\n",
       "  </thead>\n",
       "  <tbody>\n",
       "    <tr>\n",
       "      <th>0</th>\n",
       "      <td>1481.0</td>\n",
       "      <td>3.0</td>\n",
       "      <td>3.0</td>\n",
       "      <td>5.0</td>\n",
       "      <td>8530.0</td>\n",
       "    </tr>\n",
       "    <tr>\n",
       "      <th>1</th>\n",
       "      <td>1650.0</td>\n",
       "      <td>3.0</td>\n",
       "      <td>3.0</td>\n",
       "      <td>1.0</td>\n",
       "      <td>10500.0</td>\n",
       "    </tr>\n",
       "    <tr>\n",
       "      <th>2</th>\n",
       "      <td>2600.0</td>\n",
       "      <td>4.0</td>\n",
       "      <td>4.0</td>\n",
       "      <td>5.0</td>\n",
       "      <td>15000.0</td>\n",
       "    </tr>\n",
       "    <tr>\n",
       "      <th>3</th>\n",
       "      <td>2600.0</td>\n",
       "      <td>4.0</td>\n",
       "      <td>2.0</td>\n",
       "      <td>1.0</td>\n",
       "      <td>15000.0</td>\n",
       "    </tr>\n",
       "    <tr>\n",
       "      <th>4</th>\n",
       "      <td>450.0</td>\n",
       "      <td>1.0</td>\n",
       "      <td>1.0</td>\n",
       "      <td>1.0</td>\n",
       "      <td>1050.0</td>\n",
       "    </tr>\n",
       "    <tr>\n",
       "      <th>...</th>\n",
       "      <td>...</td>\n",
       "      <td>...</td>\n",
       "      <td>...</td>\n",
       "      <td>...</td>\n",
       "      <td>...</td>\n",
       "    </tr>\n",
       "    <tr>\n",
       "      <th>447</th>\n",
       "      <td>1900.0</td>\n",
       "      <td>3.0</td>\n",
       "      <td>3.0</td>\n",
       "      <td>1.0</td>\n",
       "      <td>5500.0</td>\n",
       "    </tr>\n",
       "    <tr>\n",
       "      <th>448</th>\n",
       "      <td>1686.0</td>\n",
       "      <td>3.0</td>\n",
       "      <td>3.0</td>\n",
       "      <td>1.0</td>\n",
       "      <td>8400.0</td>\n",
       "    </tr>\n",
       "    <tr>\n",
       "      <th>449</th>\n",
       "      <td>1384.0</td>\n",
       "      <td>3.0</td>\n",
       "      <td>2.0</td>\n",
       "      <td>5.0</td>\n",
       "      <td>5400.0</td>\n",
       "    </tr>\n",
       "    <tr>\n",
       "      <th>450</th>\n",
       "      <td>1785.0</td>\n",
       "      <td>3.0</td>\n",
       "      <td>3.0</td>\n",
       "      <td>1.0</td>\n",
       "      <td>6200.0</td>\n",
       "    </tr>\n",
       "    <tr>\n",
       "      <th>451</th>\n",
       "      <td>1350.0</td>\n",
       "      <td>2.0</td>\n",
       "      <td>2.0</td>\n",
       "      <td>5.0</td>\n",
       "      <td>4600.0</td>\n",
       "    </tr>\n",
       "  </tbody>\n",
       "</table>\n",
       "<p>452 rows × 5 columns</p>\n",
       "</div>"
      ],
      "text/plain": [
       "       sqft  bedrooms  bathrooms  floor_no    price\n",
       "0    1481.0       3.0        3.0       5.0   8530.0\n",
       "1    1650.0       3.0        3.0       1.0  10500.0\n",
       "2    2600.0       4.0        4.0       5.0  15000.0\n",
       "3    2600.0       4.0        2.0       1.0  15000.0\n",
       "4     450.0       1.0        1.0       1.0   1050.0\n",
       "..      ...       ...        ...       ...      ...\n",
       "447  1900.0       3.0        3.0       1.0   5500.0\n",
       "448  1686.0       3.0        3.0       1.0   8400.0\n",
       "449  1384.0       3.0        2.0       5.0   5400.0\n",
       "450  1785.0       3.0        3.0       1.0   6200.0\n",
       "451  1350.0       2.0        2.0       5.0   4600.0\n",
       "\n",
       "[452 rows x 5 columns]"
      ]
     },
     "execution_count": 57,
     "metadata": {},
     "output_type": "execute_result"
    }
   ],
   "source": [
    "data.iloc[:,[3,4,5,8,10]]"
   ]
  },
  {
   "cell_type": "code",
   "execution_count": 58,
   "id": "manufactured-father",
   "metadata": {},
   "outputs": [],
   "source": [
    "mdata = pd.concat([data.iloc[:,[3,4,5,8,10]],cats], axis=1)"
   ]
  },
  {
   "cell_type": "code",
   "execution_count": 59,
   "id": "close-brand",
   "metadata": {},
   "outputs": [
    {
     "data": {
      "text/html": [
       "<div>\n",
       "<style scoped>\n",
       "    .dataframe tbody tr th:only-of-type {\n",
       "        vertical-align: middle;\n",
       "    }\n",
       "\n",
       "    .dataframe tbody tr th {\n",
       "        vertical-align: top;\n",
       "    }\n",
       "\n",
       "    .dataframe thead th {\n",
       "        text-align: right;\n",
       "    }\n",
       "</style>\n",
       "<table border=\"1\" class=\"dataframe\">\n",
       "  <thead>\n",
       "    <tr style=\"text-align: right;\">\n",
       "      <th></th>\n",
       "      <th>sqft</th>\n",
       "      <th>bedrooms</th>\n",
       "      <th>bathrooms</th>\n",
       "      <th>floor_no</th>\n",
       "      <th>price</th>\n",
       "      <th>state_ Andhra Pradesh</th>\n",
       "      <th>state_ Assam</th>\n",
       "      <th>state_ Bihar</th>\n",
       "      <th>state_ Chhattisgarh</th>\n",
       "      <th>state_ Delhi</th>\n",
       "      <th>...</th>\n",
       "      <th>constr_info_readytomove</th>\n",
       "      <th>constr_info_underconstruction</th>\n",
       "      <th>facing_east</th>\n",
       "      <th>facing_north</th>\n",
       "      <th>facing_northeast</th>\n",
       "      <th>facing_northwest</th>\n",
       "      <th>facing_south</th>\n",
       "      <th>facing_southeast</th>\n",
       "      <th>facing_southwest</th>\n",
       "      <th>facing_west</th>\n",
       "    </tr>\n",
       "  </thead>\n",
       "  <tbody>\n",
       "    <tr>\n",
       "      <th>0</th>\n",
       "      <td>1481.0</td>\n",
       "      <td>3.0</td>\n",
       "      <td>3.0</td>\n",
       "      <td>5.0</td>\n",
       "      <td>8530.0</td>\n",
       "      <td>0.0</td>\n",
       "      <td>0.0</td>\n",
       "      <td>0.0</td>\n",
       "      <td>0.0</td>\n",
       "      <td>0.0</td>\n",
       "      <td>...</td>\n",
       "      <td>0.0</td>\n",
       "      <td>0.0</td>\n",
       "      <td>0.0</td>\n",
       "      <td>0.0</td>\n",
       "      <td>1.0</td>\n",
       "      <td>0.0</td>\n",
       "      <td>0.0</td>\n",
       "      <td>0.0</td>\n",
       "      <td>0.0</td>\n",
       "      <td>0.0</td>\n",
       "    </tr>\n",
       "    <tr>\n",
       "      <th>1</th>\n",
       "      <td>1650.0</td>\n",
       "      <td>3.0</td>\n",
       "      <td>3.0</td>\n",
       "      <td>1.0</td>\n",
       "      <td>10500.0</td>\n",
       "      <td>0.0</td>\n",
       "      <td>0.0</td>\n",
       "      <td>0.0</td>\n",
       "      <td>0.0</td>\n",
       "      <td>0.0</td>\n",
       "      <td>...</td>\n",
       "      <td>1.0</td>\n",
       "      <td>0.0</td>\n",
       "      <td>0.0</td>\n",
       "      <td>0.0</td>\n",
       "      <td>0.0</td>\n",
       "      <td>0.0</td>\n",
       "      <td>0.0</td>\n",
       "      <td>1.0</td>\n",
       "      <td>0.0</td>\n",
       "      <td>0.0</td>\n",
       "    </tr>\n",
       "    <tr>\n",
       "      <th>2</th>\n",
       "      <td>2600.0</td>\n",
       "      <td>4.0</td>\n",
       "      <td>4.0</td>\n",
       "      <td>5.0</td>\n",
       "      <td>15000.0</td>\n",
       "      <td>0.0</td>\n",
       "      <td>0.0</td>\n",
       "      <td>0.0</td>\n",
       "      <td>0.0</td>\n",
       "      <td>0.0</td>\n",
       "      <td>...</td>\n",
       "      <td>1.0</td>\n",
       "      <td>0.0</td>\n",
       "      <td>1.0</td>\n",
       "      <td>0.0</td>\n",
       "      <td>0.0</td>\n",
       "      <td>0.0</td>\n",
       "      <td>0.0</td>\n",
       "      <td>0.0</td>\n",
       "      <td>0.0</td>\n",
       "      <td>0.0</td>\n",
       "    </tr>\n",
       "    <tr>\n",
       "      <th>3</th>\n",
       "      <td>2600.0</td>\n",
       "      <td>4.0</td>\n",
       "      <td>2.0</td>\n",
       "      <td>1.0</td>\n",
       "      <td>15000.0</td>\n",
       "      <td>0.0</td>\n",
       "      <td>0.0</td>\n",
       "      <td>0.0</td>\n",
       "      <td>0.0</td>\n",
       "      <td>0.0</td>\n",
       "      <td>...</td>\n",
       "      <td>1.0</td>\n",
       "      <td>0.0</td>\n",
       "      <td>1.0</td>\n",
       "      <td>0.0</td>\n",
       "      <td>0.0</td>\n",
       "      <td>0.0</td>\n",
       "      <td>0.0</td>\n",
       "      <td>0.0</td>\n",
       "      <td>0.0</td>\n",
       "      <td>0.0</td>\n",
       "    </tr>\n",
       "    <tr>\n",
       "      <th>4</th>\n",
       "      <td>450.0</td>\n",
       "      <td>1.0</td>\n",
       "      <td>1.0</td>\n",
       "      <td>1.0</td>\n",
       "      <td>1050.0</td>\n",
       "      <td>0.0</td>\n",
       "      <td>0.0</td>\n",
       "      <td>0.0</td>\n",
       "      <td>0.0</td>\n",
       "      <td>0.0</td>\n",
       "      <td>...</td>\n",
       "      <td>1.0</td>\n",
       "      <td>0.0</td>\n",
       "      <td>1.0</td>\n",
       "      <td>0.0</td>\n",
       "      <td>0.0</td>\n",
       "      <td>0.0</td>\n",
       "      <td>0.0</td>\n",
       "      <td>0.0</td>\n",
       "      <td>0.0</td>\n",
       "      <td>0.0</td>\n",
       "    </tr>\n",
       "    <tr>\n",
       "      <th>...</th>\n",
       "      <td>...</td>\n",
       "      <td>...</td>\n",
       "      <td>...</td>\n",
       "      <td>...</td>\n",
       "      <td>...</td>\n",
       "      <td>...</td>\n",
       "      <td>...</td>\n",
       "      <td>...</td>\n",
       "      <td>...</td>\n",
       "      <td>...</td>\n",
       "      <td>...</td>\n",
       "      <td>...</td>\n",
       "      <td>...</td>\n",
       "      <td>...</td>\n",
       "      <td>...</td>\n",
       "      <td>...</td>\n",
       "      <td>...</td>\n",
       "      <td>...</td>\n",
       "      <td>...</td>\n",
       "      <td>...</td>\n",
       "      <td>...</td>\n",
       "    </tr>\n",
       "    <tr>\n",
       "      <th>447</th>\n",
       "      <td>1900.0</td>\n",
       "      <td>3.0</td>\n",
       "      <td>3.0</td>\n",
       "      <td>1.0</td>\n",
       "      <td>5500.0</td>\n",
       "      <td>0.0</td>\n",
       "      <td>0.0</td>\n",
       "      <td>0.0</td>\n",
       "      <td>0.0</td>\n",
       "      <td>0.0</td>\n",
       "      <td>...</td>\n",
       "      <td>1.0</td>\n",
       "      <td>0.0</td>\n",
       "      <td>1.0</td>\n",
       "      <td>0.0</td>\n",
       "      <td>0.0</td>\n",
       "      <td>0.0</td>\n",
       "      <td>0.0</td>\n",
       "      <td>0.0</td>\n",
       "      <td>0.0</td>\n",
       "      <td>0.0</td>\n",
       "    </tr>\n",
       "    <tr>\n",
       "      <th>448</th>\n",
       "      <td>1686.0</td>\n",
       "      <td>3.0</td>\n",
       "      <td>3.0</td>\n",
       "      <td>1.0</td>\n",
       "      <td>8400.0</td>\n",
       "      <td>0.0</td>\n",
       "      <td>0.0</td>\n",
       "      <td>0.0</td>\n",
       "      <td>0.0</td>\n",
       "      <td>0.0</td>\n",
       "      <td>...</td>\n",
       "      <td>1.0</td>\n",
       "      <td>0.0</td>\n",
       "      <td>1.0</td>\n",
       "      <td>0.0</td>\n",
       "      <td>0.0</td>\n",
       "      <td>0.0</td>\n",
       "      <td>0.0</td>\n",
       "      <td>0.0</td>\n",
       "      <td>0.0</td>\n",
       "      <td>0.0</td>\n",
       "    </tr>\n",
       "    <tr>\n",
       "      <th>449</th>\n",
       "      <td>1384.0</td>\n",
       "      <td>3.0</td>\n",
       "      <td>2.0</td>\n",
       "      <td>5.0</td>\n",
       "      <td>5400.0</td>\n",
       "      <td>0.0</td>\n",
       "      <td>0.0</td>\n",
       "      <td>0.0</td>\n",
       "      <td>0.0</td>\n",
       "      <td>0.0</td>\n",
       "      <td>...</td>\n",
       "      <td>1.0</td>\n",
       "      <td>0.0</td>\n",
       "      <td>1.0</td>\n",
       "      <td>0.0</td>\n",
       "      <td>0.0</td>\n",
       "      <td>0.0</td>\n",
       "      <td>0.0</td>\n",
       "      <td>0.0</td>\n",
       "      <td>0.0</td>\n",
       "      <td>0.0</td>\n",
       "    </tr>\n",
       "    <tr>\n",
       "      <th>450</th>\n",
       "      <td>1785.0</td>\n",
       "      <td>3.0</td>\n",
       "      <td>3.0</td>\n",
       "      <td>1.0</td>\n",
       "      <td>6200.0</td>\n",
       "      <td>0.0</td>\n",
       "      <td>0.0</td>\n",
       "      <td>0.0</td>\n",
       "      <td>0.0</td>\n",
       "      <td>0.0</td>\n",
       "      <td>...</td>\n",
       "      <td>1.0</td>\n",
       "      <td>0.0</td>\n",
       "      <td>0.0</td>\n",
       "      <td>1.0</td>\n",
       "      <td>0.0</td>\n",
       "      <td>0.0</td>\n",
       "      <td>0.0</td>\n",
       "      <td>0.0</td>\n",
       "      <td>0.0</td>\n",
       "      <td>0.0</td>\n",
       "    </tr>\n",
       "    <tr>\n",
       "      <th>451</th>\n",
       "      <td>1350.0</td>\n",
       "      <td>2.0</td>\n",
       "      <td>2.0</td>\n",
       "      <td>5.0</td>\n",
       "      <td>4600.0</td>\n",
       "      <td>0.0</td>\n",
       "      <td>0.0</td>\n",
       "      <td>0.0</td>\n",
       "      <td>0.0</td>\n",
       "      <td>0.0</td>\n",
       "      <td>...</td>\n",
       "      <td>0.0</td>\n",
       "      <td>1.0</td>\n",
       "      <td>1.0</td>\n",
       "      <td>0.0</td>\n",
       "      <td>0.0</td>\n",
       "      <td>0.0</td>\n",
       "      <td>0.0</td>\n",
       "      <td>0.0</td>\n",
       "      <td>0.0</td>\n",
       "      <td>0.0</td>\n",
       "    </tr>\n",
       "  </tbody>\n",
       "</table>\n",
       "<p>452 rows × 134 columns</p>\n",
       "</div>"
      ],
      "text/plain": [
       "       sqft  bedrooms  bathrooms  floor_no    price  state_ Andhra Pradesh  \\\n",
       "0    1481.0       3.0        3.0       5.0   8530.0                    0.0   \n",
       "1    1650.0       3.0        3.0       1.0  10500.0                    0.0   \n",
       "2    2600.0       4.0        4.0       5.0  15000.0                    0.0   \n",
       "3    2600.0       4.0        2.0       1.0  15000.0                    0.0   \n",
       "4     450.0       1.0        1.0       1.0   1050.0                    0.0   \n",
       "..      ...       ...        ...       ...      ...                    ...   \n",
       "447  1900.0       3.0        3.0       1.0   5500.0                    0.0   \n",
       "448  1686.0       3.0        3.0       1.0   8400.0                    0.0   \n",
       "449  1384.0       3.0        2.0       5.0   5400.0                    0.0   \n",
       "450  1785.0       3.0        3.0       1.0   6200.0                    0.0   \n",
       "451  1350.0       2.0        2.0       5.0   4600.0                    0.0   \n",
       "\n",
       "     state_ Assam  state_ Bihar  state_ Chhattisgarh  state_ Delhi  ...  \\\n",
       "0             0.0           0.0                  0.0           0.0  ...   \n",
       "1             0.0           0.0                  0.0           0.0  ...   \n",
       "2             0.0           0.0                  0.0           0.0  ...   \n",
       "3             0.0           0.0                  0.0           0.0  ...   \n",
       "4             0.0           0.0                  0.0           0.0  ...   \n",
       "..            ...           ...                  ...           ...  ...   \n",
       "447           0.0           0.0                  0.0           0.0  ...   \n",
       "448           0.0           0.0                  0.0           0.0  ...   \n",
       "449           0.0           0.0                  0.0           0.0  ...   \n",
       "450           0.0           0.0                  0.0           0.0  ...   \n",
       "451           0.0           0.0                  0.0           0.0  ...   \n",
       "\n",
       "     constr_info_readytomove  constr_info_underconstruction  facing_east  \\\n",
       "0                        0.0                            0.0          0.0   \n",
       "1                        1.0                            0.0          0.0   \n",
       "2                        1.0                            0.0          1.0   \n",
       "3                        1.0                            0.0          1.0   \n",
       "4                        1.0                            0.0          1.0   \n",
       "..                       ...                            ...          ...   \n",
       "447                      1.0                            0.0          1.0   \n",
       "448                      1.0                            0.0          1.0   \n",
       "449                      1.0                            0.0          1.0   \n",
       "450                      1.0                            0.0          0.0   \n",
       "451                      0.0                            1.0          1.0   \n",
       "\n",
       "     facing_north  facing_northeast  facing_northwest  facing_south  \\\n",
       "0             0.0               1.0               0.0           0.0   \n",
       "1             0.0               0.0               0.0           0.0   \n",
       "2             0.0               0.0               0.0           0.0   \n",
       "3             0.0               0.0               0.0           0.0   \n",
       "4             0.0               0.0               0.0           0.0   \n",
       "..            ...               ...               ...           ...   \n",
       "447           0.0               0.0               0.0           0.0   \n",
       "448           0.0               0.0               0.0           0.0   \n",
       "449           0.0               0.0               0.0           0.0   \n",
       "450           1.0               0.0               0.0           0.0   \n",
       "451           0.0               0.0               0.0           0.0   \n",
       "\n",
       "     facing_southeast  facing_southwest  facing_west  \n",
       "0                 0.0               0.0          0.0  \n",
       "1                 1.0               0.0          0.0  \n",
       "2                 0.0               0.0          0.0  \n",
       "3                 0.0               0.0          0.0  \n",
       "4                 0.0               0.0          0.0  \n",
       "..                ...               ...          ...  \n",
       "447               0.0               0.0          0.0  \n",
       "448               0.0               0.0          0.0  \n",
       "449               0.0               0.0          0.0  \n",
       "450               0.0               0.0          0.0  \n",
       "451               0.0               0.0          0.0  \n",
       "\n",
       "[452 rows x 134 columns]"
      ]
     },
     "execution_count": 59,
     "metadata": {},
     "output_type": "execute_result"
    }
   ],
   "source": [
    "mdata"
   ]
  },
  {
   "cell_type": "markdown",
   "id": "recorded-agent",
   "metadata": {},
   "source": [
    "#### Saving one-hot encoding function"
   ]
  },
  {
   "cell_type": "code",
   "execution_count": 60,
   "id": "presidential-executive",
   "metadata": {},
   "outputs": [
    {
     "data": {
      "text/plain": [
       "['ohe.joblib']"
      ]
     },
     "execution_count": 60,
     "metadata": {},
     "output_type": "execute_result"
    }
   ],
   "source": [
    "import joblib\n",
    "\n",
    "joblib.dump(ohe,'ohe.joblib')"
   ]
  },
  {
   "cell_type": "code",
   "execution_count": null,
   "id": "unexpected-sussex",
   "metadata": {},
   "outputs": [],
   "source": []
  },
  {
   "cell_type": "markdown",
   "id": "collect-jacksonville",
   "metadata": {},
   "source": [
    "#### X & Y"
   ]
  },
  {
   "cell_type": "code",
   "execution_count": 61,
   "id": "technological-kruger",
   "metadata": {},
   "outputs": [],
   "source": [
    "X = mdata.drop('price',axis=1)"
   ]
  },
  {
   "cell_type": "code",
   "execution_count": 62,
   "id": "handmade-identity",
   "metadata": {},
   "outputs": [],
   "source": [
    "y = mdata['price']"
   ]
  },
  {
   "cell_type": "markdown",
   "id": "hollow-breath",
   "metadata": {},
   "source": [
    "#### Train & Test Split of Data for ML Model"
   ]
  },
  {
   "cell_type": "code",
   "execution_count": 63,
   "id": "urban-charleston",
   "metadata": {},
   "outputs": [],
   "source": [
    "from sklearn.model_selection import train_test_split\n",
    "X_train, X_test, y_train, y_test = train_test_split(X, y, test_size=0.2, random_state=42)"
   ]
  },
  {
   "cell_type": "markdown",
   "id": "proprietary-excess",
   "metadata": {},
   "source": [
    "#### Regression Models\n",
    "\n",
    "As the data is not linear , we are observing non-linear models"
   ]
  },
  {
   "cell_type": "markdown",
   "id": "concerned-preservation",
   "metadata": {},
   "source": [
    "#### Random Forest Regressor Model"
   ]
  },
  {
   "cell_type": "markdown",
   "id": "optimum-paper",
   "metadata": {},
   "source": [
    "#### Training Model with Train data"
   ]
  },
  {
   "cell_type": "code",
   "execution_count": 64,
   "id": "considered-cemetery",
   "metadata": {},
   "outputs": [
    {
     "data": {
      "text/plain": [
       "0.9240042139955151"
      ]
     },
     "execution_count": 64,
     "metadata": {},
     "output_type": "execute_result"
    }
   ],
   "source": [
    "from sklearn.ensemble import RandomForestRegressor\n",
    "rf_model = RandomForestRegressor()\n",
    "rf_model.fit(X_train, y_train)\n",
    "rf_model.score(X_train, y_train)"
   ]
  },
  {
   "cell_type": "code",
   "execution_count": 65,
   "id": "satisfied-collectible",
   "metadata": {},
   "outputs": [
    {
     "data": {
      "text/plain": [
       "0.6827102279220012"
      ]
     },
     "execution_count": 65,
     "metadata": {},
     "output_type": "execute_result"
    }
   ],
   "source": [
    "y_pred = rf_model.predict(X_test)\n",
    "rf_model.score(X_test, y_test)"
   ]
  },
  {
   "cell_type": "code",
   "execution_count": 66,
   "id": "round-orbit",
   "metadata": {},
   "outputs": [
    {
     "data": {
      "text/plain": [
       "<AxesSubplot:xlabel='price', ylabel='Density'>"
      ]
     },
     "execution_count": 66,
     "metadata": {},
     "output_type": "execute_result"
    },
    {
     "data": {
      "image/png": "[encoded data removed]",
      "text/plain": [
       "<Figure size 432x288 with 1 Axes>"
      ]
     },
     "metadata": {
      "needs_background": "light"
     },
     "output_type": "display_data"
    }
   ],
   "source": [
    "sns.distplot(y_test - y_pred)"
   ]
  },
  {
   "cell_type": "code",
   "execution_count": 67,
   "id": "offshore-adventure",
   "metadata": {},
   "outputs": [
    {
     "ename": "NameError",
     "evalue": "name 'metrics' is not defined",
     "output_type": "error",
     "traceback": [
      "\u001b[1;31m---------------------------------------------------------------------------\u001b[0m",
      "\u001b[1;31mNameError\u001b[0m                                 Traceback (most recent call last)",
      "\u001b[1;32m<ipython-input-67-ae2ecaacfb74>\u001b[0m in \u001b[0;36m<module>\u001b[1;34m\u001b[0m\n\u001b[1;32m----> 1\u001b[1;33m \u001b[0mprint\u001b[0m\u001b[1;33m(\u001b[0m\u001b[1;34m\"MAE: \"\u001b[0m\u001b[1;33m,\u001b[0m \u001b[0mmetrics\u001b[0m\u001b[1;33m.\u001b[0m\u001b[0mmean_absolute_error\u001b[0m\u001b[1;33m(\u001b[0m\u001b[0my_test\u001b[0m\u001b[1;33m,\u001b[0m \u001b[0my_pred\u001b[0m\u001b[1;33m)\u001b[0m\u001b[1;33m)\u001b[0m\u001b[1;33m\u001b[0m\u001b[1;33m\u001b[0m\u001b[0m\n\u001b[0m\u001b[0;32m      2\u001b[0m \u001b[0mprint\u001b[0m\u001b[1;33m(\u001b[0m\u001b[1;34m\"MSE: \"\u001b[0m\u001b[1;33m,\u001b[0m \u001b[0mmetrics\u001b[0m\u001b[1;33m.\u001b[0m\u001b[0mmean_squared_error\u001b[0m\u001b[1;33m(\u001b[0m\u001b[0my_test\u001b[0m\u001b[1;33m,\u001b[0m \u001b[0my_pred\u001b[0m\u001b[1;33m)\u001b[0m\u001b[1;33m)\u001b[0m\u001b[1;33m\u001b[0m\u001b[1;33m\u001b[0m\u001b[0m\n\u001b[0;32m      3\u001b[0m \u001b[0mprint\u001b[0m\u001b[1;33m(\u001b[0m\u001b[1;34m\"RMSE: \"\u001b[0m\u001b[1;33m,\u001b[0m \u001b[0mnp\u001b[0m\u001b[1;33m.\u001b[0m\u001b[0msqrt\u001b[0m\u001b[1;33m(\u001b[0m\u001b[0mmetrics\u001b[0m\u001b[1;33m.\u001b[0m\u001b[0mmean_squared_error\u001b[0m\u001b[1;33m(\u001b[0m\u001b[0my_test\u001b[0m\u001b[1;33m,\u001b[0m \u001b[0my_pred\u001b[0m\u001b[1;33m)\u001b[0m\u001b[1;33m)\u001b[0m\u001b[1;33m)\u001b[0m\u001b[1;33m\u001b[0m\u001b[1;33m\u001b[0m\u001b[0m\n",
      "\u001b[1;31mNameError\u001b[0m: name 'metrics' is not defined"
     ]
    }
   ],
   "source": [
    "print(\"MAE: \", metrics.mean_absolute_error(y_test, y_pred))\n",
    "print(\"MSE: \", metrics.mean_squared_error(y_test, y_pred))\n",
    "print(\"RMSE: \", np.sqrt(metrics.mean_squared_error(y_test, y_pred)))"
   ]
  },
  {
   "cell_type": "code",
   "execution_count": null,
   "id": "under-behalf",
   "metadata": {},
   "outputs": [],
   "source": [
    "plt.scatter(y_test, y_pred, alpha=0.5)\n",
    "plt.xlabel('y_test')\n",
    "plt.ylabel('y_label')\n",
    "plt.show()"
   ]
  },
  {
   "cell_type": "code",
   "execution_count": null,
   "id": "imported-discretion",
   "metadata": {},
   "outputs": [],
   "source": [
    "metrics.r2_score(y_test, y_pred)"
   ]
  },
  {
   "cell_type": "code",
   "execution_count": null,
   "id": "discrete-accordance",
   "metadata": {},
   "outputs": [],
   "source": []
  },
  {
   "cell_type": "code",
   "execution_count": null,
   "id": "occupational-amplifier",
   "metadata": {},
   "outputs": [],
   "source": []
  },
  {
   "cell_type": "code",
   "execution_count": null,
   "id": "included-affairs",
   "metadata": {},
   "outputs": [],
   "source": []
  },
  {
   "cell_type": "markdown",
   "id": "selective-tract",
   "metadata": {},
   "source": [
    "#### Realtime Estimation"
   ]
  },
  {
   "cell_type": "code",
   "execution_count": 101,
   "id": "occasional-variable",
   "metadata": {},
   "outputs": [
    {
     "data": {
      "text/html": [
       "<div>\n",
       "<style scoped>\n",
       "    .dataframe tbody tr th:only-of-type {\n",
       "        vertical-align: middle;\n",
       "    }\n",
       "\n",
       "    .dataframe tbody tr th {\n",
       "        vertical-align: top;\n",
       "    }\n",
       "\n",
       "    .dataframe thead th {\n",
       "        text-align: right;\n",
       "    }\n",
       "</style>\n",
       "<table border=\"1\" class=\"dataframe\">\n",
       "  <thead>\n",
       "    <tr style=\"text-align: right;\">\n",
       "      <th></th>\n",
       "      <th>state</th>\n",
       "      <th>city</th>\n",
       "      <th>house_type</th>\n",
       "      <th>sqft</th>\n",
       "      <th>bedrooms</th>\n",
       "      <th>bathrooms</th>\n",
       "      <th>furnishing</th>\n",
       "      <th>constr_info</th>\n",
       "      <th>floor_no</th>\n",
       "      <th>facing</th>\n",
       "      <th>price</th>\n",
       "    </tr>\n",
       "  </thead>\n",
       "  <tbody>\n",
       "    <tr>\n",
       "      <th>0</th>\n",
       "      <td>Punjab</td>\n",
       "      <td>Mohali</td>\n",
       "      <td>apartments</td>\n",
       "      <td>1481.0</td>\n",
       "      <td>3.0</td>\n",
       "      <td>3.0</td>\n",
       "      <td>semifurnished</td>\n",
       "      <td>newlaunch</td>\n",
       "      <td>5.0</td>\n",
       "      <td>northeast</td>\n",
       "      <td>8530.0</td>\n",
       "    </tr>\n",
       "    <tr>\n",
       "      <th>1</th>\n",
       "      <td>Karnataka</td>\n",
       "      <td>Mysuru</td>\n",
       "      <td>housesvillas</td>\n",
       "      <td>1650.0</td>\n",
       "      <td>3.0</td>\n",
       "      <td>3.0</td>\n",
       "      <td>furnished</td>\n",
       "      <td>readytomove</td>\n",
       "      <td>1.0</td>\n",
       "      <td>southeast</td>\n",
       "      <td>10500.0</td>\n",
       "    </tr>\n",
       "    <tr>\n",
       "      <th>2</th>\n",
       "      <td>Gujarat</td>\n",
       "      <td>Surat</td>\n",
       "      <td>apartments</td>\n",
       "      <td>2600.0</td>\n",
       "      <td>4.0</td>\n",
       "      <td>4.0</td>\n",
       "      <td>semifurnished</td>\n",
       "      <td>readytomove</td>\n",
       "      <td>5.0</td>\n",
       "      <td>east</td>\n",
       "      <td>15000.0</td>\n",
       "    </tr>\n",
       "    <tr>\n",
       "      <th>3</th>\n",
       "      <td>Kerala</td>\n",
       "      <td>Kochi</td>\n",
       "      <td>housesvillas</td>\n",
       "      <td>2600.0</td>\n",
       "      <td>4.0</td>\n",
       "      <td>2.0</td>\n",
       "      <td>semifurnished</td>\n",
       "      <td>readytomove</td>\n",
       "      <td>1.0</td>\n",
       "      <td>east</td>\n",
       "      <td>15000.0</td>\n",
       "    </tr>\n",
       "    <tr>\n",
       "      <th>4</th>\n",
       "      <td>Rajasthan</td>\n",
       "      <td>Jaipur</td>\n",
       "      <td>apartments</td>\n",
       "      <td>450.0</td>\n",
       "      <td>1.0</td>\n",
       "      <td>1.0</td>\n",
       "      <td>semifurnished</td>\n",
       "      <td>readytomove</td>\n",
       "      <td>1.0</td>\n",
       "      <td>east</td>\n",
       "      <td>1050.0</td>\n",
       "    </tr>\n",
       "  </tbody>\n",
       "</table>\n",
       "</div>"
      ],
      "text/plain": [
       "        state     city    house_type    sqft  bedrooms  bathrooms  \\\n",
       "0      Punjab   Mohali    apartments  1481.0       3.0        3.0   \n",
       "1   Karnataka   Mysuru  housesvillas  1650.0       3.0        3.0   \n",
       "2     Gujarat    Surat    apartments  2600.0       4.0        4.0   \n",
       "3      Kerala    Kochi  housesvillas  2600.0       4.0        2.0   \n",
       "4   Rajasthan   Jaipur    apartments   450.0       1.0        1.0   \n",
       "\n",
       "      furnishing  constr_info  floor_no     facing    price  \n",
       "0  semifurnished    newlaunch       5.0  northeast   8530.0  \n",
       "1      furnished  readytomove       1.0  southeast  10500.0  \n",
       "2  semifurnished  readytomove       5.0       east  15000.0  \n",
       "3  semifurnished  readytomove       1.0       east  15000.0  \n",
       "4  semifurnished  readytomove       1.0       east   1050.0  "
      ]
     },
     "execution_count": 101,
     "metadata": {},
     "output_type": "execute_result"
    }
   ],
   "source": [
    "data.head()"
   ]
  },
  {
   "cell_type": "code",
   "execution_count": 102,
   "id": "discrete-squad",
   "metadata": {},
   "outputs": [],
   "source": [
    "check = [['kerala','kochi','apartments',1000,3,2,'furnished','newlaunch',5,'east']]"
   ]
  },
  {
   "cell_type": "code",
   "execution_count": 103,
   "id": "veterinary-journal",
   "metadata": {},
   "outputs": [],
   "source": [
    "check = pd.DataFrame(check, columns = ['state', 'city', 'house_type', 'sqft', 'bedrooms', 'bathrooms',\n",
    "       'furnishing', 'constr_info','floor_no','facing'])"
   ]
  },
  {
   "cell_type": "code",
   "execution_count": 104,
   "id": "quiet-blues",
   "metadata": {},
   "outputs": [],
   "source": [
    "ohot = joblib.load(\"ohe.joblib\")"
   ]
  },
  {
   "cell_type": "code",
   "execution_count": 106,
   "id": "computational-dealer",
   "metadata": {},
   "outputs": [],
   "source": [
    "cats = pd.DataFrame(ohot.transform(check.iloc[:,[0,1,2,6,7,9]]))"
   ]
  },
  {
   "cell_type": "code",
   "execution_count": 107,
   "id": "palestinian-timeline",
   "metadata": {},
   "outputs": [
    {
     "data": {
      "text/html": [
       "<div>\n",
       "<style scoped>\n",
       "    .dataframe tbody tr th:only-of-type {\n",
       "        vertical-align: middle;\n",
       "    }\n",
       "\n",
       "    .dataframe tbody tr th {\n",
       "        vertical-align: top;\n",
       "    }\n",
       "\n",
       "    .dataframe thead th {\n",
       "        text-align: right;\n",
       "    }\n",
       "</style>\n",
       "<table border=\"1\" class=\"dataframe\">\n",
       "  <thead>\n",
       "    <tr style=\"text-align: right;\">\n",
       "      <th></th>\n",
       "      <th>0</th>\n",
       "      <th>1</th>\n",
       "      <th>2</th>\n",
       "      <th>3</th>\n",
       "      <th>4</th>\n",
       "      <th>5</th>\n",
       "      <th>6</th>\n",
       "      <th>7</th>\n",
       "      <th>8</th>\n",
       "      <th>9</th>\n",
       "      <th>...</th>\n",
       "      <th>119</th>\n",
       "      <th>120</th>\n",
       "      <th>121</th>\n",
       "      <th>122</th>\n",
       "      <th>123</th>\n",
       "      <th>124</th>\n",
       "      <th>125</th>\n",
       "      <th>126</th>\n",
       "      <th>127</th>\n",
       "      <th>128</th>\n",
       "    </tr>\n",
       "  </thead>\n",
       "  <tbody>\n",
       "    <tr>\n",
       "      <th>0</th>\n",
       "      <td>0.0</td>\n",
       "      <td>0.0</td>\n",
       "      <td>0.0</td>\n",
       "      <td>0.0</td>\n",
       "      <td>0.0</td>\n",
       "      <td>0.0</td>\n",
       "      <td>0.0</td>\n",
       "      <td>0.0</td>\n",
       "      <td>0.0</td>\n",
       "      <td>0.0</td>\n",
       "      <td>...</td>\n",
       "      <td>0.0</td>\n",
       "      <td>0.0</td>\n",
       "      <td>1.0</td>\n",
       "      <td>0.0</td>\n",
       "      <td>0.0</td>\n",
       "      <td>0.0</td>\n",
       "      <td>0.0</td>\n",
       "      <td>0.0</td>\n",
       "      <td>0.0</td>\n",
       "      <td>0.0</td>\n",
       "    </tr>\n",
       "  </tbody>\n",
       "</table>\n",
       "<p>1 rows × 129 columns</p>\n",
       "</div>"
      ],
      "text/plain": [
       "   0    1    2    3    4    5    6    7    8    9    ...  119  120  121  122  \\\n",
       "0  0.0  0.0  0.0  0.0  0.0  0.0  0.0  0.0  0.0  0.0  ...  0.0  0.0  1.0  0.0   \n",
       "\n",
       "   123  124  125  126  127  128  \n",
       "0  0.0  0.0  0.0  0.0  0.0  0.0  \n",
       "\n",
       "[1 rows x 129 columns]"
      ]
     },
     "execution_count": 107,
     "metadata": {},
     "output_type": "execute_result"
    }
   ],
   "source": [
    "cats"
   ]
  },
  {
   "cell_type": "code",
   "execution_count": 108,
   "id": "undefined-hearing",
   "metadata": {},
   "outputs": [],
   "source": [
    "cats.columns = ohe.get_feature_names_out()"
   ]
  },
  {
   "cell_type": "code",
   "execution_count": 110,
   "id": "cooperative-resort",
   "metadata": {},
   "outputs": [],
   "source": [
    "check = pd.concat([check.iloc[:,[3,4,5,8]],cats], axis=1)"
   ]
  },
  {
   "cell_type": "code",
   "execution_count": 111,
   "id": "alien-preservation",
   "metadata": {},
   "outputs": [
    {
     "data": {
      "text/html": [
       "<div>\n",
       "<style scoped>\n",
       "    .dataframe tbody tr th:only-of-type {\n",
       "        vertical-align: middle;\n",
       "    }\n",
       "\n",
       "    .dataframe tbody tr th {\n",
       "        vertical-align: top;\n",
       "    }\n",
       "\n",
       "    .dataframe thead th {\n",
       "        text-align: right;\n",
       "    }\n",
       "</style>\n",
       "<table border=\"1\" class=\"dataframe\">\n",
       "  <thead>\n",
       "    <tr style=\"text-align: right;\">\n",
       "      <th></th>\n",
       "      <th>sqft</th>\n",
       "      <th>bedrooms</th>\n",
       "      <th>bathrooms</th>\n",
       "      <th>floor_no</th>\n",
       "      <th>state_ Andhra Pradesh</th>\n",
       "      <th>state_ Assam</th>\n",
       "      <th>state_ Bihar</th>\n",
       "      <th>state_ Chhattisgarh</th>\n",
       "      <th>state_ Delhi</th>\n",
       "      <th>state_ Gujarat</th>\n",
       "      <th>...</th>\n",
       "      <th>constr_info_readytomove</th>\n",
       "      <th>constr_info_underconstruction</th>\n",
       "      <th>facing_east</th>\n",
       "      <th>facing_north</th>\n",
       "      <th>facing_northeast</th>\n",
       "      <th>facing_northwest</th>\n",
       "      <th>facing_south</th>\n",
       "      <th>facing_southeast</th>\n",
       "      <th>facing_southwest</th>\n",
       "      <th>facing_west</th>\n",
       "    </tr>\n",
       "  </thead>\n",
       "  <tbody>\n",
       "    <tr>\n",
       "      <th>0</th>\n",
       "      <td>1000</td>\n",
       "      <td>3</td>\n",
       "      <td>2</td>\n",
       "      <td>5</td>\n",
       "      <td>0.0</td>\n",
       "      <td>0.0</td>\n",
       "      <td>0.0</td>\n",
       "      <td>0.0</td>\n",
       "      <td>0.0</td>\n",
       "      <td>0.0</td>\n",
       "      <td>...</td>\n",
       "      <td>0.0</td>\n",
       "      <td>0.0</td>\n",
       "      <td>1.0</td>\n",
       "      <td>0.0</td>\n",
       "      <td>0.0</td>\n",
       "      <td>0.0</td>\n",
       "      <td>0.0</td>\n",
       "      <td>0.0</td>\n",
       "      <td>0.0</td>\n",
       "      <td>0.0</td>\n",
       "    </tr>\n",
       "  </tbody>\n",
       "</table>\n",
       "<p>1 rows × 133 columns</p>\n",
       "</div>"
      ],
      "text/plain": [
       "   sqft  bedrooms  bathrooms  floor_no  state_ Andhra Pradesh  state_ Assam  \\\n",
       "0  1000         3          2         5                    0.0           0.0   \n",
       "\n",
       "   state_ Bihar  state_ Chhattisgarh  state_ Delhi  state_ Gujarat  ...  \\\n",
       "0           0.0                  0.0           0.0             0.0  ...   \n",
       "\n",
       "   constr_info_readytomove  constr_info_underconstruction  facing_east  \\\n",
       "0                      0.0                            0.0          1.0   \n",
       "\n",
       "   facing_north  facing_northeast  facing_northwest  facing_south  \\\n",
       "0           0.0               0.0               0.0           0.0   \n",
       "\n",
       "   facing_southeast  facing_southwest  facing_west  \n",
       "0               0.0               0.0          0.0  \n",
       "\n",
       "[1 rows x 133 columns]"
      ]
     },
     "execution_count": 111,
     "metadata": {},
     "output_type": "execute_result"
    }
   ],
   "source": [
    "check"
   ]
  },
  {
   "cell_type": "code",
   "execution_count": 124,
   "id": "extreme-worship",
   "metadata": {},
   "outputs": [
    {
     "data": {
      "text/plain": [
       "3483.20082"
      ]
     },
     "execution_count": 124,
     "metadata": {},
     "output_type": "execute_result"
    }
   ],
   "source": [
    "rf_model.predict(check)[0]"
   ]
  },
  {
   "cell_type": "code",
   "execution_count": 128,
   "id": "opposed-learning",
   "metadata": {},
   "outputs": [
    {
     "data": {
      "text/plain": [
       "3483000"
      ]
     },
     "execution_count": 128,
     "metadata": {},
     "output_type": "execute_result"
    }
   ],
   "source": [
    "3483*1000"
   ]
  },
  {
   "cell_type": "markdown",
   "id": "extended-monster",
   "metadata": {},
   "source": [
    "#### Saving the model for further reference"
   ]
  },
  {
   "cell_type": "code",
   "execution_count": 69,
   "id": "tropical-pizza",
   "metadata": {},
   "outputs": [
    {
     "data": {
      "text/plain": [
       "['finalm.pkl']"
      ]
     },
     "execution_count": 69,
     "metadata": {},
     "output_type": "execute_result"
    }
   ],
   "source": [
    "joblib.dump(rf_model,'finalm.pkl')"
   ]
  },
  {
   "cell_type": "markdown",
   "id": "labeled-stress",
   "metadata": {},
   "source": [
    "#### Tuning"
   ]
  },
  {
   "cell_type": "code",
   "execution_count": null,
   "id": "piano-coach",
   "metadata": {},
   "outputs": [],
   "source": [
    "from sklearn.model_selection import RandomizedSearchCV"
   ]
  },
  {
   "cell_type": "code",
   "execution_count": null,
   "id": "casual-wiring",
   "metadata": {},
   "outputs": [],
   "source": [
    "# Randomized Search CV\n",
    "\n",
    "## Number of trees in ramdom forest\n",
    "n_estimators = [int(x) for x in np.linspace(start=100, stop=1200, num=12)]\n",
    "## Number of features to consider at every split\n",
    "max_features = ['auto', 'sqrt']\n",
    "## Maximum number of level in tree\n",
    "max_depth = [int(x) for x in np.linspace(5, 30, num=6)]\n",
    "## Minimum number of samples required to split a node\n",
    "min_samples_split = [2, 5, 10, 15, 100]\n",
    "## Minimum number of samples required at each leaf node\n",
    "min_samples_leaf = [1, 2, 5, 10]"
   ]
  },
  {
   "cell_type": "code",
   "execution_count": null,
   "id": "arbitrary-pacific",
   "metadata": {},
   "outputs": [],
   "source": [
    "## create the random grid\n",
    "random_grid = {'n_estimators': n_estimators,\n",
    "               'max_features': max_features,\n",
    "               'max_depth': max_depth,\n",
    "               'min_samples_split': min_samples_split,\n",
    "               'min_samples_leaf': min_samples_leaf}\n",
    "print(random_grid)"
   ]
  },
  {
   "cell_type": "code",
   "execution_count": null,
   "id": "fitting-indiana",
   "metadata": {},
   "outputs": [],
   "source": [
    "rf_random = RandomizedSearchCV(estimator=rf_model, param_distributions=random_grid, scoring='neg_mean_squared_error',\n",
    "                               n_iter=10, cv=5, verbose=2, random_state=42, n_jobs=1)"
   ]
  },
  {
   "cell_type": "code",
   "execution_count": null,
   "id": "human-tattoo",
   "metadata": {},
   "outputs": [],
   "source": [
    "rf_random.fit(X_train, y_train)"
   ]
  },
  {
   "cell_type": "code",
   "execution_count": null,
   "id": "better-sacramento",
   "metadata": {},
   "outputs": [],
   "source": [
    "rf_random.best_params_"
   ]
  },
  {
   "cell_type": "code",
   "execution_count": null,
   "id": "reserved-alexandria",
   "metadata": {},
   "outputs": [],
   "source": [
    "y_pred = rf_random.predict(X_test)"
   ]
  },
  {
   "cell_type": "code",
   "execution_count": null,
   "id": "amended-cabin",
   "metadata": {},
   "outputs": [],
   "source": [
    "plt.scatter(y_test, y_pred, alpha=0.5)\n",
    "plt.xlabel('y_test')\n",
    "plt.ylabel('y_label')\n",
    "plt.show()"
   ]
  },
  {
   "cell_type": "code",
   "execution_count": null,
   "id": "polish-broadway",
   "metadata": {},
   "outputs": [],
   "source": [
    "print(\"MAE: \", metrics.mean_absolute_error(y_test, y_pred))\n",
    "print(\"MSE: \", metrics.mean_squared_error(y_test, y_pred))\n",
    "print(\"RMSE: \", np.sqrt(metrics.mean_squared_error(y_test, y_pred)))"
   ]
  },
  {
   "cell_type": "code",
   "execution_count": null,
   "id": "collectible-venezuela",
   "metadata": {},
   "outputs": [],
   "source": [
    "metrics.r2_score(y_test, y_pred)"
   ]
  },
  {
   "cell_type": "code",
   "execution_count": null,
   "id": "upset-management",
   "metadata": {},
   "outputs": [],
   "source": []
  }
 ],
 "metadata": {
  "kernelspec": {
   "display_name": "Python 3 (ipykernel)",
   "language": "python",
   "name": "python3"
  },
  "language_info": {
   "codemirror_mode": {
    "name": "ipython",
    "version": 3
   },
   "file_extension": ".py",
   "mimetype": "text/x-python",
   "name": "python",
   "nbconvert_exporter": "python",
   "pygments_lexer": "ipython3",
   "version": "3.9.13"
  }
 },
 "nbformat": 4,
 "nbformat_minor": 5
}
